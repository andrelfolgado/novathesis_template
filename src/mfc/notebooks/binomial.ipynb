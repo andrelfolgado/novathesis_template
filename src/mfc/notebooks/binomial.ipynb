{
 "cells": [
  {
   "metadata": {},
   "cell_type": "markdown",
   "source": "### Binomial Asset Price Modelling",
   "id": "96b8e96819c2ec54"
  },
  {
   "metadata": {},
   "cell_type": "markdown",
   "source": [
    "Will treat a binomial tree as a network with nodes $(i,j)$, with $i$ representing the time steps and $j$ the number of up moves. The number of down moves is $i-j$.\n",
    "\n",
    "- The price of the asset at node $(i,j)$ is $S_{i,j} = S_0u^jd^{i-j}$, where $u$ and $d$ are the up and down factors, respectively.\n",
    "- The Option price at node $(i,j)$ is $C_{i,j}, where $C_{N,j}$ represents the payoff of the option at maturity.\n",
    "\n",
    "> For an European call option, the payoff is $C_{N,j} = \\max(S_{N,j} - K, 0)$, where $K$ is the strike price."
   ],
   "id": "5be16c2b210cfec2"
  },
  {
   "metadata": {
    "ExecuteTime": {
     "end_time": "2024-12-23T11:29:52.247529Z",
     "start_time": "2024-12-23T11:29:52.239520Z"
    }
   },
   "cell_type": "code",
   "source": [
    "# Generic timing wrapper function\n",
    "from functools import wraps\n",
    "from time import time\n",
    "\n",
    "def timing(f):\n",
    "\t@wraps(f)\n",
    "\tdef wrapper(*args, **kwargs):\n",
    "\t\tstart = time()\n",
    "\t\tresult = f(*args, **kwargs)\n",
    "\t\tend = time()\n",
    "\t\tprint(f'Elapsed time: {end-start:.6f} seconds')\n",
    "\t\treturn result\n",
    "\treturn wrapper"
   ],
   "id": "f0184f7199b8ebad",
   "outputs": [],
   "execution_count": 1
  },
  {
   "metadata": {},
   "cell_type": "markdown",
   "source": "#### Binomial tree (loop version)",
   "id": "28456c826f955967"
  },
  {
   "metadata": {
    "ExecuteTime": {
     "end_time": "2024-12-15T16:11:39.552944Z",
     "start_time": "2024-12-15T16:11:39.545348Z"
    }
   },
   "cell_type": "code",
   "source": [
    "import numpy as np\n",
    "\n",
    "@timing\n",
    "def binomial_tree(S0, K, T, r, N, u, d, option_type):\n",
    "    dt = T / N                              # Time step\n",
    "    p = (np.exp(r * dt) - d) / (u - d)      # Risk-neutral probability\n",
    "    disc = np.exp(-r * dt)                  # Discount factor\n",
    "    bin_tree = np.zeros((N + 1, N + 1))\t\t# Initialise the tree\n",
    "    # Fill the tree\n",
    "    for j in range(N + 1):                  #\n",
    "        bin_tree[N, j] = max(S0 * u ** j * d ** (N - j) - K, 0)\n",
    "    for i in range(N - 1, -1, -1):\n",
    "        for j in range(i + 1):\n",
    "            bin_tree[i, j] = disc * (p * bin_tree[i + 1, j + 1] + (1 - p) * bin_tree[i + 1, j])\n",
    "    return bin_tree\n",
    "binomial_tree(S0, K, T, r, N, u, d, option_type)"
   ],
   "id": "131001f53f1b98a8",
   "outputs": [
    {
     "name": "stdout",
     "output_type": "stream",
     "text": [
      "Elapsed time: 0.000000 seconds\n"
     ]
    },
    {
     "data": {
      "text/plain": [
       "array([[10.1457358 ,  0.        ,  0.        ,  0.        ],\n",
       "       [ 3.25450292, 15.44712278,  0.        ,  0.        ],\n",
       "       [ 0.        ,  5.70482508, 22.98013267,  0.        ],\n",
       "       [ 0.        ,  0.        , 10.        , 33.1       ]])"
      ]
     },
     "execution_count": 35,
     "metadata": {},
     "output_type": "execute_result"
    }
   ],
   "execution_count": 35
  },
  {
   "metadata": {
    "ExecuteTime": {
     "end_time": "2024-12-15T19:06:17.739308Z",
     "start_time": "2024-12-15T19:06:17.732233Z"
    }
   },
   "cell_type": "code",
   "source": [
    "import numpy as np\n",
    "\n",
    "@timing\n",
    "def binomial_tree_slow(S0, K, T, r, N, u, d, option_type):\n",
    "    dt = T / N                              # Time step\n",
    "    q = (np.exp(r * dt) - d) / (u - d)      # Risk-neutral probability\n",
    "    disc = np.exp(-r * dt)                  # Discount factor\n",
    "\n",
    "    # initialize asset prices at maturity - Time step N\n",
    "    S = np.zeros(N+1)\n",
    "    S[0] = S0 * d**N\n",
    "    for i in range(1, N+1):\n",
    "        S[i] = S[i-1] * u/d\n",
    "\n",
    "    # initialize option values at maturity - Time step N\n",
    "    C = np.zeros(N+1)\n",
    "    for i in range(N+1):\n",
    "        C[i] = max(S[i] - K, 0) # Call option\n",
    "\n",
    "    # step back through the tree\n",
    "    for i in range(N-1, -1, -1):\n",
    "        for j in range(i+1):\n",
    "            C[j] = disc * (q * C[j+1] + (1-q) * C[j])\n",
    "\n",
    "    return C[0]\n",
    "\n",
    "# Initial parameters\n",
    "S0 = 100    # Initial price of the asset\n",
    "K = 100     # Strike price\n",
    "T = 1/3       # time to maturity in years\n",
    "r = 0.1   # annual risk-free rate\n",
    "N = 4     # number of time steps\n",
    "u = 1.0604     # up factor\n",
    "d = 1/u     # down factor (divided by u)\n",
    "option_type = 'call'\n",
    "binomial_tree_slow(S0, K, T, r, N, u, d, option_type)"
   ],
   "id": "6e9774982b593d43",
   "outputs": [
    {
     "name": "stdout",
     "output_type": "stream",
     "text": [
      "Elapsed time: 0.000000 seconds\n"
     ]
    },
    {
     "data": {
      "text/plain": [
       "6.136931812319602"
      ]
     },
     "execution_count": 52,
     "metadata": {},
     "output_type": "execute_result"
    }
   ],
   "execution_count": 52
  },
  {
   "metadata": {
    "ExecuteTime": {
     "end_time": "2024-12-15T19:07:08.527603Z",
     "start_time": "2024-12-15T19:07:08.517404Z"
    }
   },
   "cell_type": "code",
   "source": [
    "import numpy as np\n",
    "def binomial_tree_vectorized(S0, K, T, r, N, u, d, option_type):\n",
    "\tdt = T/N\n",
    "\tq = (np.exp(r * dt) - d) / (u - d)\n",
    "\tdisc = np.exp(-r * dt)\n",
    "\n",
    "\tS = S0 * u**np.arange(N, -1, -1) * d **np.arange(N+1)\n",
    "\n",
    "\t# Option values at maturity\n",
    "\tif option_type == \"call\":\n",
    "\t    C = np.maximum(S - K, 0)\n",
    "\telif option_type == \"put\":\n",
    "\t    C = np.maximum(K - S, 0)\n",
    "\telse:\n",
    "\t    raise ValueError(\"Invalid option type. Choose 'call' or 'put'.\")\n",
    "\n",
    "\tfor _ in np.arange(N):\n",
    "\t    C = disc * (q * C[:-1] + (1 - q) * C[1:])\n",
    "\n",
    "\treturn C[0]\n",
    "\n",
    "binomial_tree_vectorized(S0, K, T, r, N, u, d, option_type)"
   ],
   "id": "8ce96ea0fb223759",
   "outputs": [
    {
     "data": {
      "text/plain": [
       "6.1369318123196175"
      ]
     },
     "execution_count": 53,
     "metadata": {},
     "output_type": "execute_result"
    }
   ],
   "execution_count": 53
  },
  {
   "metadata": {
    "ExecuteTime": {
     "end_time": "2024-12-15T19:30:24.741260Z",
     "start_time": "2024-12-15T19:30:24.732139Z"
    }
   },
   "cell_type": "code",
   "source": [
    "def american_option_price(asset, volatility, int_rate, strike, expiry, no_steps):\n",
    "    # Time step\n",
    "    time_step = expiry / no_steps\n",
    "\n",
    "    # Discount factor\n",
    "    discount_factor = np.exp(-int_rate * time_step)\n",
    "\n",
    "    # Up and down factors\n",
    "    temp1 = np.exp((int_rate + volatility ** 2) * time_step)\n",
    "    temp2 = 0.5 * (temp1 - discount_factor)\n",
    "    u = temp2 + np.sqrt(temp2 ** 2 + discount_factor)\n",
    "    d = (np.exp(int_rate * time_step) * discount_factor) / u\n",
    "\n",
    "    # Probability\n",
    "    p = (np.exp(int_rate * time_step) - d) / (u - d)\n",
    "\n",
    "    # Initialize stock price and option value arrays\n",
    "    S = np.zeros(no_steps + 1)\n",
    "    V = np.zeros(no_steps + 1)\n",
    "\n",
    "    # Stock prices at maturity\n",
    "    for j in range(no_steps + 1):\n",
    "        S[j] = asset * (u ** j) * (d ** (no_steps - j))\n",
    "\n",
    "    # Option value at maturity (payoff)\n",
    "    for j in range(no_steps + 1):\n",
    "        V[j] = max(S[j] - strike, 0)  # For a call option. Use (strike - S[j]) for a put option.\n",
    "\n",
    "    # Backward induction through the tree\n",
    "    for n in range(no_steps - 1, -1, -1):\n",
    "        for j in range(n + 1):\n",
    "            S[j] = S[j] / u\n",
    "            V[j] = max((p * V[j + 1] + (1 - p) * V[j]) * discount_factor, max(S[j] - strike, 0))\n",
    "\n",
    "    # Return the option price at the root of the tree\n",
    "    return V[0]\n",
    "\n",
    "# Example usage\n",
    "asset = 100  # Current stock price\n",
    "volatility = 0.2  # Annual volatility\n",
    "int_rate = 0.06  # Annual risk-free rate\n",
    "strike = 100  # Strike price\n",
    "expiry = 1  # Time to expiry in years\n",
    "no_steps = 3  # Number of steps in the binomial tree\n",
    "\n",
    "price = american_option_price(asset, volatility, int_rate, strike, expiry, no_steps)\n",
    "print(f\"The price of the American option is: {price}\")\n"
   ],
   "id": "be74c8541445411d",
   "outputs": [
    {
     "name": "stdout",
     "output_type": "stream",
     "text": [
      "The price of the American option is: 5.858946526464091\n"
     ]
    }
   ],
   "execution_count": 78
  },
  {
   "metadata": {
    "ExecuteTime": {
     "end_time": "2024-12-19T14:28:12.543369Z",
     "start_time": "2024-12-19T14:28:12.535967Z"
    }
   },
   "cell_type": "code",
   "source": [
    "import numpy as np\n",
    "\n",
    "def european_option_price(S0, sigma, r, K, T, N, option_type):\n",
    "    # Time step\n",
    "    dt = T / N\n",
    "\n",
    "    # Discount factor\n",
    "    disc = np.exp(-r * dt)\n",
    "\n",
    "    # Up and down factors\n",
    "    temp1 = np.exp((r + sigma ** 2) * dt)\n",
    "    temp2 = 0.5 * (temp1 + disc)\n",
    "    u = temp2 + np.sqrt(temp2 ** 2  - 1)\n",
    "    d = 1 / u\n",
    "\n",
    "    # Probability\n",
    "    p = (np.exp(r * dt) - d) / (u - d)\n",
    "\n",
    "    # Stock prices at maturity\n",
    "    S = S0 * (u ** np.arange(N + 1)) * (d ** (N - np.arange(N + 1)))\n",
    "\n",
    "    # Payoff at maturity\n",
    "    if option_type == \"call\":\n",
    "        V = np.maximum(S - K, 0)\n",
    "    elif option_type == \"put\":\n",
    "        V = np.maximum(K - S, 0)\n",
    "    else:\n",
    "        raise ValueError(\"option_type must be 'call' or 'put'\")\n",
    "\n",
    "    # Backward induction\n",
    "    for n in range(N - 1, -1, -1):\n",
    "    # for _ in np.arange(N):\n",
    "        V[:n + 1] = (p * V[1:n + 2] + (1 - p) * V[:n + 1]) * disc\n",
    "        # V = (p * V[:-1] + (1 - p) * V[1:]) * disc\n",
    "\n",
    "    # Option price at the root\n",
    "    return V[0]\n",
    "\n",
    "# Example usage\n",
    "asset = 100             # Current stock price\n",
    "volatility = 0.2        # Annual volatility\n",
    "int_rate = 0.1          # Annual risk-free rate\n",
    "strike = 100            # Strike price\n",
    "expiry = 1/3              # Time to expiry in years\n",
    "no_steps = 4           # Number of steps in the binomial tree\n",
    "option_type = \"call\"    # \"call\" or \"put\"\n",
    "\n",
    "price = european_option_price(asset, volatility, int_rate, strike, expiry, no_steps, option_type)\n",
    "print(f\"The price of the European {option_type} option is: {price}\")\n"
   ],
   "id": "864c7449f002e078",
   "outputs": [
    {
     "name": "stdout",
     "output_type": "stream",
     "text": [
      "The price of the European call option is: 6.134472467975938\n"
     ]
    }
   ],
   "execution_count": 5
  },
  {
   "metadata": {
    "ExecuteTime": {
     "end_time": "2024-12-15T19:26:24.169004Z",
     "start_time": "2024-12-15T19:26:24.155963Z"
    }
   },
   "cell_type": "code",
   "source": [
    "import numpy as np\n",
    "\n",
    "def american_option_price(asset, sigma, r, K, T, N, option_type):\n",
    "    # Time step\n",
    "    dt = T / N\n",
    "\n",
    "    # Discount factor\n",
    "    disc = np.exp(-r * dt)\n",
    "\n",
    "    # Up and down factors\n",
    "    temp1 = np.exp((r + sigma ** 2) * dt)\n",
    "    temp2 = 0.5 * (temp1 + disc)\n",
    "    u = temp2 + np.sqrt(temp2 ** 2  - 1)\n",
    "    d = 1 / u\n",
    "\n",
    "    # Probability\n",
    "    p = (np.exp(r * dt) - d) / (u - d)\n",
    "\n",
    "    # Generate stock prices at maturity\n",
    "    j = np.arange(N + 1)\n",
    "    S = asset * (u ** j) * (d ** (N - j))\n",
    "\n",
    "    # Option value at maturity\n",
    "    if option_type == \"call\":\n",
    "        V = np.maximum(S - K, 0)\n",
    "    elif option_type == \"put\":\n",
    "        V = np.maximum(K - S, 0)\n",
    "    else:\n",
    "        raise ValueError(\"option_type must be 'call' or 'put'\")\n",
    "\n",
    "    # Backward induction through the tree\n",
    "    for n in range(N - 1, -1, -1):\n",
    "        S = S[:-1] / u  # Adjust stock prices for the previous step\n",
    "        if option_type == \"call\":\n",
    "            V = np.maximum((p * V[1:] + (1 - p) * V[:-1]) * disc, np.maximum(S - K, 0))\n",
    "        elif option_type == \"put\":\n",
    "            V = np.maximum((p * V[1:] + (1 - p) * V[:-1]) * disc, np.maximum(K - S, 0))\n",
    "\n",
    "    # Return the option price at the root of the tree\n",
    "    return V[0]\n",
    "\n",
    "# Example usage\n",
    "asset = 100             # Current stock price\n",
    "volatility = 0.2        # Annual volatility\n",
    "int_rate = 0.1          # Annual risk-free rate\n",
    "strike = 100            # Strike price\n",
    "expiry = 1/3              # Time to expiry in years\n",
    "no_steps = 4           # Number of steps in the binomial tree\n",
    "option_type = \"call\"    # \"call\" or \"put\"\n",
    "\n",
    "price = american_option_price(asset, volatility, int_rate, strike, expiry, no_steps, option_type)\n",
    "print(f\"The price of the American {option_type} option is: {price}\")\n"
   ],
   "id": "31a7171a556160d4",
   "outputs": [
    {
     "name": "stdout",
     "output_type": "stream",
     "text": [
      "The price of the American call option is: 6.134472467975938\n"
     ]
    }
   ],
   "execution_count": 70
  },
  {
   "metadata": {
    "ExecuteTime": {
     "end_time": "2024-12-16T09:16:25.610935Z",
     "start_time": "2024-12-16T09:16:25.423555Z"
    }
   },
   "cell_type": "code",
   "source": [
    "import matplotlib.pyplot as plt\n",
    "\n",
    "# Define node positions and values with evenly spaced y-coordinates\n",
    "nodes = {\n",
    "    (0, 0): 6.13,\n",
    "    (1, 1): 2.09, (1, -1): 9.45,\n",
    "    (2, 2): 0.00, (2, 0): 3.79, (2, -2): 14.09,\n",
    "    (3, 3): 0.00, (3, 1): 0.00, (3, -1): 6.87, (3, -3): 20.05,\n",
    "    (4, 4): 0.00, (4, 2): 0.00, (4, 0): 0.00, (4, -2): 12.44, (4, -4): 26.42,\n",
    "}\n",
    "\n",
    "# Create a list of edges (connections between nodes)\n",
    "edges = [\n",
    "    ((0, 0), (1, 1)), ((0, 0), (1, -1)),\n",
    "    ((1, 1), (2, 2)), ((1, 1), (2, 0)),\n",
    "    ((1, -1), (2, 0)), ((1, -1), (2, -2)),\n",
    "    ((2, 2), (3, 3)), ((2, 2), (3, 1)),\n",
    "    ((2, 0), (3, 1)), ((2, 0), (3, -1)),\n",
    "    ((2, -2), (3, -1)), ((2, -2), (3, -3)),\n",
    "    ((3, 3), (4, 4)), ((3, 1), (4, 2)),\n",
    "    ((3, -1), (4, 0)), ((3, -1), (4, -2)),\n",
    "    ((3, -3), (4, -2)), ((3, -3), (4, -4)),\n",
    "]\n",
    "\n",
    "# Initialize the plot\n",
    "plt.figure(figsize=(10, 8))\n",
    "\n",
    "# Draw edges\n",
    "for edge in edges:\n",
    "    x0, y0 = edge[0]\n",
    "    x1, y1 = edge[1]\n",
    "    plt.plot([x0, x1], [y0, y1], 'k-', lw=1)  # 'k-' means black lines\n",
    "\n",
    "# Draw nodes and labels\n",
    "for position, value in nodes.items():\n",
    "    x, y = position\n",
    "    plt.plot(x, y, 'ko')  # Draw nodes as black circles\n",
    "    plt.text(x, y + 0.2, f'{value:.2f}', ha='center', va='center', fontsize=8, color='red')  # Move text above nodes\n",
    "\n",
    "# Adjust plot aesthetics\n",
    "plt.title(\"Tree of Option Prices\")\n",
    "plt.gca().invert_yaxis()  # Optional: Remove this if you prefer normal y-axis\n",
    "plt.axis('off')  # Turn off axes for a cleaner look\n",
    "plt.show()\n"
   ],
   "id": "7f45c326bd245b8e",
   "outputs": [
    {
     "data": {
      "text/plain": [
       "<Figure size 1000x800 with 1 Axes>"
      ],
      "image/png": "[encoded data removed]"
     },
     "metadata": {},
     "output_type": "display_data"
    }
   ],
   "execution_count": 90
  },
  {
   "metadata": {},
   "cell_type": "code",
   "outputs": [],
   "execution_count": null,
   "source": "",
   "id": "7ba5affdaa55a96a"
  }
 ],
 "metadata": {
  "kernelspec": {
   "display_name": "Python 3",
   "language": "python",
   "name": "python3"
  },
  "language_info": {
   "codemirror_mode": {
    "name": "ipython",
    "version": 2
   },
   "file_extension": ".py",
   "mimetype": "text/x-python",
   "name": "python",
   "nbconvert_exporter": "python",
   "pygments_lexer": "ipython2",
   "version": "2.7.6"
  }
 },
 "nbformat": 4,
 "nbformat_minor": 5
}
