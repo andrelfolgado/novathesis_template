{
 "cells": [
  {
   "cell_type": "code",
   "id": "initial_id",
   "metadata": {
    "collapsed": true,
    "ExecuteTime": {
     "end_time": "2024-06-15T02:48:11.176384Z",
     "start_time": "2024-06-15T02:48:11.172360Z"
    }
   },
   "source": "from mur_wind_prev import  get_wind_prev_pivot",
   "outputs": [],
   "execution_count": 6
  },
  {
   "metadata": {
    "ExecuteTime": {
     "end_time": "2024-06-15T02:25:10.672219Z",
     "start_time": "2024-06-15T02:25:10.624426Z"
    }
   },
   "cell_type": "code",
   "source": [
    "ZONES = (\"22Bolo\", \"24Ama1\", \"26Fanh\", \"27Arr1\", \"29Sob2\", \"44Milagre\", \"48Vale_de\", \"60Maravil\", \"61MaraviII\", \"68Jogui\")\n",
    "HIST_NUM_YEARS = 4"
   ],
   "id": "22a7e77822248077",
   "outputs": [],
   "execution_count": 2
  },
  {
   "metadata": {
    "ExecuteTime": {
     "end_time": "2024-06-15T02:38:34.848930Z",
     "start_time": "2024-06-15T02:35:13.580121Z"
    }
   },
   "cell_type": "code",
   "source": "df = get_wind_prev_pivot(ZONES, HIST_NUM_YEARS)",
   "id": "a6dc93b30d57c3e1",
   "outputs": [],
   "execution_count": 4
  },
  {
   "metadata": {
    "ExecuteTime": {
     "end_time": "2024-06-15T09:51:35.197008Z",
     "start_time": "2024-06-15T09:51:35.193686Z"
    }
   },
   "cell_type": "code",
   "source": [
    "import tensorflow as tf\n",
    "import tensorflow_probability as tfp\n",
    "\n",
    "tfd = tfp.distributions"
   ],
   "id": "ca388f4d80cbd0d0",
   "outputs": [],
   "execution_count": 152
  },
  {
   "metadata": {
    "ExecuteTime": {
     "end_time": "2024-06-15T09:51:01.971193Z",
     "start_time": "2024-06-15T09:51:01.966264Z"
    }
   },
   "cell_type": "code",
   "source": [
    "num_timesteps, num_series = df.shape\n",
    "num_predictors = 5 \n",
    "# def build_mbsts_model(num_timesteps, num_series, num_predictors):"
   ],
   "id": "d86965cc600327da",
   "outputs": [],
   "execution_count": 148
  },
  {
   "metadata": {
    "ExecuteTime": {
     "end_time": "2024-06-15T09:51:02.801466Z",
     "start_time": "2024-06-15T09:51:02.794938Z"
    }
   },
   "cell_type": "code",
   "source": [
    "# Example predictors\n",
    "predictors = tf.Variable(tf.random.normal([num_timesteps, num_predictors]), name='predictors')"
   ],
   "id": "68d435d8d610a5de",
   "outputs": [],
   "execution_count": 149
  },
  {
   "metadata": {
    "ExecuteTime": {
     "end_time": "2024-06-15T09:51:04.031608Z",
     "start_time": "2024-06-15T09:51:04.010764Z"
    }
   },
   "cell_type": "code",
   "source": [
    "# Define priors for the model parameters\n",
    "mu = tf.Variable(tf.zeros([num_series]), name='mu')\n",
    "sigma = tfp.util.TransformedVariable(tf.eye(num_series), tfp.bijectors.FillScaleTriL(), name='sigma')"
   ],
   "id": "75fb4a0515c8cb9c",
   "outputs": [],
   "execution_count": 150
  },
  {
   "metadata": {
    "ExecuteTime": {
     "end_time": "2024-06-15T09:51:39.020355Z",
     "start_time": "2024-06-15T09:51:38.999145Z"
    }
   },
   "cell_type": "code",
   "source": [
    "# Trend component\n",
    "# trend = tfd.Normal(loc=tf.zeros([num_timesteps, num_series]), scale=1.0, name='trend')\n",
    "\n",
    " # Sample from the distributions for each component\n",
    "trend_dist = tfd.Normal(loc=tf.zeros([num_timesteps, num_series]), scale=1.0)\n",
    "trend = trend_dist.sample()"
   ],
   "id": "c6268709cfe5c08b",
   "outputs": [],
   "execution_count": 153
  },
  {
   "metadata": {
    "ExecuteTime": {
     "end_time": "2024-06-15T04:38:49.583340Z",
     "start_time": "2024-06-15T04:38:49.560852Z"
    }
   },
   "cell_type": "code",
   "source": [
    "# Seasonal component\n",
    "# seasonality = tfd.Normal(loc=tf.zeros([num_timesteps, num_series]), scale=1.0, name='seasonality')\n",
    "\n",
    "seasonality_dist = tfd.Normal(loc=tf.zeros([num_timesteps, num_series]), scale=1.0)\n",
    "seasonality = seasonality_dist.sample()"
   ],
   "id": "79e65d82455782f8",
   "outputs": [],
   "execution_count": 124
  },
  {
   "metadata": {
    "ExecuteTime": {
     "end_time": "2024-06-15T04:38:50.012409Z",
     "start_time": "2024-06-15T04:38:50.001616Z"
    }
   },
   "cell_type": "code",
   "source": [
    "# Cyclical component\n",
    "# cycle = tfd.Normal(loc=tf.zeros([num_timesteps, num_series]), scale=1.0, name='cycle')\n",
    "cycle_dist = tfd.Normal(loc=tf.zeros([num_timesteps, num_series]), scale=1.0)\n",
    "cycle = cycle_dist.sample()"
   ],
   "id": "97d463a4cae6b487",
   "outputs": [],
   "execution_count": 125
  },
  {
   "metadata": {
    "ExecuteTime": {
     "end_time": "2024-06-15T04:38:50.454775Z",
     "start_time": "2024-06-15T04:38:50.442294Z"
    }
   },
   "cell_type": "code",
   "source": [
    "# Regression component\n",
    "# regression_coefficients = tfd.Normal(loc=tf.zeros([num_series, num_predictors]), scale=1.0,name='regression_coefficients')\n",
    "# predictors = tf.Variable(tf.zeros([num_timesteps, num_predictors]), name='predictors')\n",
    "\n",
    "regression_coefficients_dist = tfd.Normal(loc=tf.zeros([num_series, num_predictors]), scale=1.0)\n",
    "regression_coefficients = regression_coefficients_dist.sample()\n"
   ],
   "id": "2a4a1481a4739454",
   "outputs": [],
   "execution_count": 126
  },
  {
   "metadata": {
    "ExecuteTime": {
     "end_time": "2024-06-15T09:57:45.092592Z",
     "start_time": "2024-06-15T09:57:45.084059Z"
    }
   },
   "cell_type": "code",
   "source": [
    "# Observation model\n",
    "observation_model = (\n",
    "        mu \n",
    "        + trend \n",
    "        + seasonality \n",
    "        + cycle \n",
    "        + tf.linalg.matmul(predictors, regression_coefficients, transpose_b=True)\n",
    ")"
   ],
   "id": "7d0663d710f5510",
   "outputs": [],
   "execution_count": 158
  },
  {
   "metadata": {
    "ExecuteTime": {
     "end_time": "2024-06-15T09:57:45.794689Z",
     "start_time": "2024-06-15T09:57:45.779342Z"
    }
   },
   "cell_type": "code",
   "source": [
    "# Add noise\n",
    "model = tfd.MultivariateNormalTriL(loc=observation_model, scale_tril=sigma)\n",
    "\n",
    "    # return y"
   ],
   "id": "aac33808a00d5fb2",
   "outputs": [],
   "execution_count": 159
  },
  {
   "metadata": {
    "ExecuteTime": {
     "end_time": "2024-06-15T09:57:46.946748Z",
     "start_time": "2024-06-15T09:57:46.901188Z"
    }
   },
   "cell_type": "code",
   "source": [
    "# Define the log probability of the model\n",
    "log_model_prob = model.log_prob(df.values)"
   ],
   "id": "4fec84eade7efbca",
   "outputs": [],
   "execution_count": 160
  },
  {
   "metadata": {},
   "cell_type": "markdown",
   "source": "### Fit the model using MCMC",
   "id": "390ac5b98577c55b"
  },
  {
   "metadata": {
    "ExecuteTime": {
     "end_time": "2024-06-15T09:57:48.176327Z",
     "start_time": "2024-06-15T09:57:48.172827Z"
    }
   },
   "cell_type": "code",
   "source": [
    "# Prepare data for the model\n",
    "# observations = df.values"
   ],
   "id": "6f7a22d3594e0fd7",
   "outputs": [],
   "execution_count": 161
  },
  {
   "metadata": {
    "ExecuteTime": {
     "end_time": "2024-06-15T09:57:50.537107Z",
     "start_time": "2024-06-15T09:57:50.533241Z"
    }
   },
   "cell_type": "code",
   "source": [
    "def target_log_prob_fn(log_model=log_model_prob):\n",
    "    # return tf.reduce_sum(model.log_prob(observations))\n",
    "    return log_model"
   ],
   "id": "6dcdf01b415c9725",
   "outputs": [],
   "execution_count": 162
  },
  {
   "metadata": {
    "ExecuteTime": {
     "end_time": "2024-06-15T09:57:52.937559Z",
     "start_time": "2024-06-15T09:57:52.931074Z"
    }
   },
   "cell_type": "code",
   "source": [
    "# Define the HMC transition kernel\n",
    "nuts_kernel = tfp.mcmc.HamiltonianMonteCarlo(\n",
    "    target_log_prob_fn=target_log_prob_fn,\n",
    "    step_size=0.1,\n",
    "    num_leapfrog_steps=3\n",
    ")"
   ],
   "id": "32e34757e2074bd2",
   "outputs": [],
   "execution_count": 163
  },
  {
   "metadata": {
    "ExecuteTime": {
     "end_time": "2024-06-15T09:57:53.674113Z",
     "start_time": "2024-06-15T09:57:53.670919Z"
    }
   },
   "cell_type": "code",
   "source": [
    "# Run the MCMC chain\n",
    "num_results = 500\n",
    "num_burnin_steps = 300\n"
   ],
   "id": "fb8523a184ebf680",
   "outputs": [],
   "execution_count": 164
  },
  {
   "metadata": {
    "ExecuteTime": {
     "end_time": "2024-06-15T09:58:03.044821Z",
     "start_time": "2024-06-15T09:58:03.039329Z"
    }
   },
   "cell_type": "code",
   "source": [
    "@tf.function\n",
    "def run_chain(model, num_results, num_burnin_steps, nuts_kernel):\n",
    "    # Initial state for MCMC\n",
    "    initial_state = model.trainable_variables\n",
    "\n",
    "    return tfp.mcmc.sample_chain(\n",
    "        num_results=num_results,\n",
    "        num_burnin_steps=num_burnin_steps,\n",
    "        current_state=initial_state,\n",
    "        kernel=nuts_kernel,\n",
    "        trace_fn=lambda current_state, kernel_results: kernel_results.is_accepted\n",
    "    )"
   ],
   "id": "9770d69a50a516e9",
   "outputs": [],
   "execution_count": 165
  },
  {
   "metadata": {
    "ExecuteTime": {
     "end_time": "2024-06-15T09:58:05.220826Z",
     "start_time": "2024-06-15T09:58:04.747484Z"
    }
   },
   "cell_type": "code",
   "source": [
    "# Execute the MCMC chain\n",
    "samples, is_accepted = run_chain(model, num_results, num_burnin_steps, nuts_kernel)"
   ],
   "id": "4c6d8ee4b6b6b1bf",
   "outputs": [],
   "execution_count": 166
  },
  {
   "metadata": {},
   "cell_type": "code",
   "outputs": [],
   "execution_count": null,
   "source": [
    "import matplotlib.pyplot as plt\n",
    "\n",
    "# Extract posterior means\n",
    "posterior_mu = samples[0].numpy()\n",
    "\n",
    "plt.figure(figsize=(10, 6))\n",
    "for i in range(num_series):\n",
    "    plt.plot(posterior_mu[:, i], label=f'Time Series {i+1}')\n",
    "plt.legend()\n",
    "plt.title('Posterior Means of Time Series')\n",
    "plt.show()\n"
   ],
   "id": "dc04c3f2d04523e9"
  }
 ],
 "metadata": {
  "kernelspec": {
   "display_name": "Python 3",
   "language": "python",
   "name": "python3"
  },
  "language_info": {
   "codemirror_mode": {
    "name": "ipython",
    "version": 2
   },
   "file_extension": ".py",
   "mimetype": "text/x-python",
   "name": "python",
   "nbconvert_exporter": "python",
   "pygments_lexer": "ipython2",
   "version": "2.7.6"
  }
 },
 "nbformat": 4,
 "nbformat_minor": 5
}
