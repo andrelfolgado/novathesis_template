{
 "cells": [
  {
   "cell_type": "code",
   "execution_count": 1,
   "id": "initial_id",
   "metadata": {
    "ExecuteTime": {
     "end_time": "2024-06-18T00:26:05.149065Z",
     "start_time": "2024-06-18T00:25:51.919749Z"
    },
    "collapsed": true,
    "jupyter": {
     "outputs_hidden": true
    }
   },
   "outputs": [
    {
     "name": "stdout",
     "output_type": "stream",
     "text": [
      "WARNING:tensorflow:From C:\\Users\\E353682\\.virtualenvs\\hedging_renewables\\Lib\\site-packages\\tf_keras\\src\\losses.py:2976: The name tf.losses.sparse_softmax_cross_entropy is deprecated. Please use tf.compat.v1.losses.sparse_softmax_cross_entropy instead.\n",
      "\n",
      "WARNING:tensorflow:From C:\\Users\\E353682\\.virtualenvs\\hedging_renewables\\Lib\\site-packages\\tensorflow_probability\\python\\internal\\backend\\numpy\\_utils.py:48: The name tf.logging.TaskLevelStatusMessage is deprecated. Please use tf.compat.v1.logging.TaskLevelStatusMessage instead.\n",
      "\n",
      "WARNING:tensorflow:From C:\\Users\\E353682\\.virtualenvs\\hedging_renewables\\Lib\\site-packages\\tensorflow_probability\\python\\internal\\backend\\numpy\\_utils.py:48: The name tf.control_flow_v2_enabled is deprecated. Please use tf.compat.v1.control_flow_v2_enabled instead.\n",
      "\n"
     ]
    }
   ],
   "source": [
    "\n",
    "import tensorflow as tf\n",
    "import tensorflow_probability as tfp\n",
    "import numpy as np\n",
    "import pandas as pd\n",
    "import tensorflow_probability.python.distributions as tfd\n",
    "from statsmodels.tsa.stattools import adfuller"
   ]
  },
  {
   "cell_type": "code",
   "execution_count": 2,
   "id": "22a7e77822248077",
   "metadata": {
    "ExecuteTime": {
     "end_time": "2024-06-18T00:26:05.153022Z",
     "start_time": "2024-06-18T00:26:05.150045Z"
    }
   },
   "outputs": [],
   "source": [
    "ZONES = (\"22Bolo\", \"24Ama1\", \"26Fanh\", \"27Arr1\", \"29Sob2\", \"44Milagre\", \"48Vale_de\", \"60Maravil\", \"61MaraviII\", \"68Jogui\")\n",
    "HIST_NUM_YEARS = 4"
   ]
  },
  {
   "cell_type": "code",
   "execution_count": 3,
   "id": "a6dc93b30d57c3e1",
   "metadata": {
    "ExecuteTime": {
     "end_time": "2024-06-18T00:26:05.158914Z",
     "start_time": "2024-06-18T00:26:05.154024Z"
    }
   },
   "outputs": [],
   "source": [
    "# Hourly Wind generation data with multiple time series as columns \n",
    "# df = get_wind_prev_pivot(ZONES, HIST_NUM_YEARS)"
   ]
  },
  {
   "cell_type": "code",
   "execution_count": 4,
   "id": "d66b155dcf024863",
   "metadata": {
    "ExecuteTime": {
     "end_time": "2024-06-18T00:26:05.173123Z",
     "start_time": "2024-06-18T00:26:05.159908Z"
    }
   },
   "outputs": [],
   "source": [
    "#load df from pkl\n",
    "df = pd.read_pickle('wind_generation_data.pkl')"
   ]
  },
  {
   "cell_type": "code",
   "execution_count": 5,
   "id": "c563fffcd8a43774",
   "metadata": {
    "ExecuteTime": {
     "end_time": "2024-06-18T00:27:13.099280Z",
     "start_time": "2024-06-18T00:27:13.095859Z"
    }
   },
   "outputs": [],
   "source": [
    "df_29Sob = df['29Sob2']"
   ]
  },
  {
   "cell_type": "markdown",
   "id": "8567c7491850e39",
   "metadata": {},
   "source": [
    "# Check for stationarity"
   ]
  },
  {
   "cell_type": "code",
   "execution_count": 21,
   "id": "1bdbeda3b74c2a69",
   "metadata": {
    "ExecuteTime": {
     "end_time": "2024-06-18T00:35:59.128034Z",
     "start_time": "2024-06-18T00:35:56.409606Z"
    }
   },
   "outputs": [
    {
     "name": "stdout",
     "output_type": "stream",
     "text": [
      "Results of Dickey-Fuller Test:\n",
      "Test Statistic           -1.824034e+01\n",
      "p-value                   2.355766e-30\n",
      "#Lags Used                4.800000e+01\n",
      "Number of Observations    3.502400e+04\n",
      "Critical Value (1%)      -3.430537e+00\n",
      "Critical Value (5%)      -2.861623e+00\n",
      "Critical Value (10%)     -2.566814e+00\n",
      "dtype: float64\n"
     ]
    }
   ],
   "source": [
    "#Perform Dickey-Fuller test:\n",
    "print ('Results of Dickey-Fuller Test:')\n",
    "dftest = adfuller(df_29Sob.values, autolag='AIC')\n",
    "dfoutput = pd.Series(dftest[0:4], index=['Test Statistic','p-value','#Lags Used','Number of Observations'])\n",
    "for key, value in dftest[4].items():\n",
    "    dfoutput['Critical Value (%s)'%key] = value\n",
    "print (dfoutput)"
   ]
  },
  {
   "cell_type": "code",
   "execution_count": 4,
   "id": "6b652516d8a18d58",
   "metadata": {
    "ExecuteTime": {
     "end_time": "2024-06-16T19:22:03.807422Z",
     "start_time": "2024-06-16T19:22:03.801606Z"
    }
   },
   "outputs": [],
   "source": [
    "#df contains hourly wind generation data including historical data and forecasted for each time series. I want to split the data into historical and forecasted data based now time filtering the datetimeindex. getting df_hist and df_forecast\n",
    "df_hist = df.loc[df.index < pd.Timestamp.now()]\n",
    "df_forecast = df.loc[df.index >= pd.Timestamp.now()]"
   ]
  },
  {
   "cell_type": "code",
   "execution_count": 5,
   "id": "f4771f7e05b1718",
   "metadata": {
    "ExecuteTime": {
     "end_time": "2024-06-16T19:22:03.816900Z",
     "start_time": "2024-06-16T19:22:03.809421Z"
    }
   },
   "outputs": [],
   "source": [
    "# Model parameters\n",
    "num_timesteps, num_series = df_hist.shape\n",
    "num_predictors = 5\n",
    "horizon = 15 * 24  # 15 days ahead, hourly data"
   ]
  },
  {
   "cell_type": "code",
   "execution_count": 6,
   "id": "ca388f4d80cbd0d0",
   "metadata": {
    "ExecuteTime": {
     "end_time": "2024-06-16T19:22:03.857748Z",
     "start_time": "2024-06-16T19:22:03.817900Z"
    }
   },
   "outputs": [],
   "source": [
    "\n",
    "# Convert the data to a numpy array and change type to np.float32\n",
    "observed_time_series = df_hist.values.astype(np.float32)\n",
    "\n",
    "# Create some dummy predictors for illustration\n",
    "predictors = tf.random.normal([num_timesteps, num_predictors])\n",
    "# Example predictors\n",
    "# predictors = tf.Variable(tf.random.normal([num_timesteps, num_predictors]), name='predictors')"
   ]
  },
  {
   "cell_type": "code",
   "execution_count": 7,
   "id": "debd6a4aefc8ee6f",
   "metadata": {
    "ExecuteTime": {
     "end_time": "2024-06-16T19:22:04.112158Z",
     "start_time": "2024-06-16T19:22:03.858745Z"
    }
   },
   "outputs": [],
   "source": [
    "trend = tfp.sts.LocalLinearTrend(observed_time_series=observed_time_series, name='trend')\n",
    "\n",
    "#Daily seasonality for hourly data (24 hours)\n",
    "seasonal = tfp.sts.Seasonal(num_seasons=24, observed_time_series=observed_time_series, name='seasonal')\n",
    "\n",
    "#Weekly cycle for hourly data (24*7 hours)\n",
    "cycle = tfp.sts.SmoothSeasonal(period=24*7, frequency_multipliers=[1., 2., 3.], observed_time_series=observed_time_series, name='cycle')  # Weekly cycle\n",
    "\n",
    "regression = tfp.sts.LinearRegression(design_matrix=predictors, name='predictors')"
   ]
  },
  {
   "cell_type": "code",
   "execution_count": 12,
   "id": "75fb4a0515c8cb9c",
   "metadata": {
    "ExecuteTime": {
     "end_time": "2024-06-16T19:32:18.594766Z",
     "start_time": "2024-06-16T19:32:18.577804Z"
    }
   },
   "outputs": [],
   "source": [
    "# Define the model\n",
    "sts_model  = tfp.sts.Sum([trend, seasonal, cycle, regression], observed_time_series=observed_time_series)"
   ]
  },
  {
   "cell_type": "code",
   "execution_count": 78,
   "id": "79d99a05b60251a8",
   "metadata": {
    "ExecuteTime": {
     "end_time": "2024-06-16T23:08:26.407640Z",
     "start_time": "2024-06-16T23:08:25.916719Z"
    }
   },
   "outputs": [],
   "source": [
    "# def spike_and_slab_priors(num_predictors, num_series):\n",
    "#     # Spike-and-slab prior for regression coefficients\n",
    "#     slab_scale = tfp.util.TransformedVariable(1.0, tfb.Softplus())\n",
    "#     spike_scale = tfp.util.TransformedVariable(0.1, tfb.Softplus())\n",
    "# \n",
    "#     # Prepare an array of zeros of size num_predictors\n",
    "#     loc_zeros = tf.zeros([num_predictors])\n",
    "# \n",
    "#     # Prepare a list of mixture distributions\n",
    "#     mixtures = [tfd.Normal(loc=loc_zeros, scale=spike_scale),\n",
    "#                 tfd.Normal(loc=loc_zeros, scale=spike_scale),\n",
    "#                 tfd.Normal(loc=loc_zeros, scale=spike_scale),\n",
    "#                 tfd.Normal(loc=loc_zeros, scale=spike_scale),\n",
    "#                 tfd.Normal(loc=loc_zeros, scale=spike_scale),\n",
    "#                 tfd.Normal(loc=loc_zeros, scale=slab_scale)] * num_predictors\n",
    "# \n",
    "#     spike_and_slab = tfd.MixtureSameFamily(\n",
    "#         mixture_distribution=tfd.Categorical(logits=tf.zeros(num_predictors)),\n",
    "#         components_distribution=tfd.Blockwise(mixtures)\n",
    "#     )\n",
    "#     priors = {\n",
    "#         'regression_coefficients': spike_and_slab,\n",
    "#         'observation_noise_scale': tfd.LogNormal(loc=0., scale=1.),\n",
    "#     }\n",
    "#     return priors\n",
    "# \n",
    "# \n",
    "# # Define the spike-and-slab priors\n",
    "# priors = spike_and_slab_priors(num_predictors, num_series)"
   ]
  },
  {
   "cell_type": "code",
   "execution_count": 74,
   "id": "73558e477e3a3d7e",
   "metadata": {
    "ExecuteTime": {
     "end_time": "2024-06-16T23:04:11.252834Z",
     "start_time": "2024-06-16T23:04:11.250717Z"
    }
   },
   "outputs": [],
   "source": [
    "# priors.values()\n",
    "check_model_para = sts_model.parameters"
   ]
  },
  {
   "cell_type": "code",
   "execution_count": 59,
   "id": "15a103fb852ad59c",
   "metadata": {
    "ExecuteTime": {
     "end_time": "2024-06-16T20:11:22.678497Z",
     "start_time": "2024-06-16T20:11:22.670942Z"
    }
   },
   "outputs": [],
   "source": [
    "# # Define the joint distribution\n",
    "# def get_param_prior_values(parameters):\n",
    "#     return [param.prior for param in parameters]\n",
    "# \n",
    "# def sts_model_joint_distribution(observed_time_series, sts_model, num_timesteps, num_series):\n",
    "#     param_vals = get_param_prior_values(sts_model.parameters)\n",
    "# \n",
    "#     def sts_model_fn():\n",
    "#         param_list = []\n",
    "#         for param in param_vals:\n",
    "#             param_list.append((yield param))\n",
    "#         \n",
    "#         # Create a state space model for the entire multivariate time series\n",
    "#         state_space_model = sts_model.make_state_space_model(\n",
    "#             num_timesteps=num_timesteps,\n",
    "#             param_vals=param_list,\n",
    "#             initial_state_prior=tfd.MultivariateNormalDiag(scale_diag=tf.ones([num_series]))\n",
    "#         )\n",
    "#         \n",
    "#         # Log probability for multivariate time series\n",
    "#         yield state_space_model.log_prob(observed_time_series)\n",
    "# \n",
    "#     return tfd.JointDistributionCoroutineAutoBatched(sts_model_fn)\n"
   ]
  },
  {
   "cell_type": "code",
   "execution_count": 79,
   "id": "3fc45f37bba265e2",
   "metadata": {
    "ExecuteTime": {
     "end_time": "2024-06-16T23:08:31.980364Z",
     "start_time": "2024-06-16T23:08:31.966116Z"
    }
   },
   "outputs": [],
   "source": [
    "# # Define the joint distribution with priors\n",
    "# def joint_distribution_fn():\n",
    "#     param_list = []\n",
    "#     for prior in priors.values():\n",
    "#         param_list.append((yield prior))\n",
    "#     \n",
    "#     state_space_model = sts_model.make_state_space_model(\n",
    "#         num_timesteps=num_timesteps,\n",
    "#         param_vals=param_list,\n",
    "#         initial_state_prior=tfd.MultivariateNormalDiag(scale_diag=tf.ones([num_series]))\n",
    "#     )\n",
    "#     yield state_space_model.log_prob(observed_time_series)\n",
    "# \n",
    "# joint_dist = tfd.JointDistributionCoroutineAutoBatched(joint_distribution_fn)"
   ]
  },
  {
   "cell_type": "code",
   "execution_count": 89,
   "id": "a5360a83983f8cff",
   "metadata": {
    "ExecuteTime": {
     "end_time": "2024-06-17T10:58:05.499788Z",
     "start_time": "2024-06-17T10:58:05.482286Z"
    }
   },
   "outputs": [],
   "source": [
    "# Define the joint distribution\n",
    "def get_param_prior_values(parameters):\n",
    "    return [param.prior for param in parameters]\n",
    "\n",
    "def sts_model_joint_distribution(observed_time_series, sts_model, num_timesteps, num_series):\n",
    "    param_vals = get_param_prior_values(sts_model.parameters)\n",
    "\n",
    "    def sts_model_fn():\n",
    "        param_list = []\n",
    "        for param in param_vals:\n",
    "            param_list.append((yield param))\n",
    "\n",
    "        # Vectorized state space model\n",
    "        def vectorized_model_fn(time_series):\n",
    "            return sts_model.make_state_space_model(\n",
    "                num_timesteps=num_timesteps,\n",
    "                param_vals=param_list,\n",
    "                initial_state_prior=tfd.MultivariateNormalDiag(scale_diag=tf.ones([sts_model.latent_size]))\n",
    "            ).log_prob(time_series)\n",
    "\n",
    "        log_probs = tf.vectorized_map(vectorized_model_fn, tf.transpose(observed_time_series))\n",
    "        yield tf.reduce_sum(log_probs)\n",
    "\n",
    "    return tfd.JointDistributionCoroutineAutoBatched(sts_model_fn)"
   ]
  },
  {
   "cell_type": "code",
   "execution_count": null,
   "id": "d9cb7be023326361",
   "metadata": {},
   "outputs": [],
   "source": []
  },
  {
   "cell_type": "code",
   "execution_count": 45,
   "id": "38fa01ec007ee498",
   "metadata": {
    "ExecuteTime": {
     "end_time": "2024-06-16T19:55:19.454821Z",
     "start_time": "2024-06-16T19:55:19.450284Z"
    }
   },
   "outputs": [],
   "source": [
    "# # Define the joint distribution\n",
    "# def get_param_prior_values(parameters):\n",
    "#     return [param.prior for param in parameters]\n",
    "# \n",
    "# \n",
    "# def sts_model_joint_distribution(observed_time_series, sts_model, num_timesteps, num_series):\n",
    "#     param_vals = get_param_prior_values(sts_model.parameters)\n",
    "# \n",
    "#     def sts_model_fn():\n",
    "#         param_list = []\n",
    "#         for param in param_vals:\n",
    "#             param_list.append((yield param))\n",
    "#         \n",
    "#         yield sts_model.make_state_space_model(\n",
    "#             num_timesteps=num_timesteps,\n",
    "#             param_vals=param_list,\n",
    "#             initial_state_prior=tfd.MultivariateNormalDiag(scale_diag=tf.ones([num_series]))\n",
    "#         ).log_prob(observed_time_series)\n",
    "# \n",
    "#     return tfd.JointDistributionCoroutineAutoBatched(\n",
    "#         model= sts_model_fn,\n",
    "#         # sample_dtype=sts_model.dtype,\n",
    "#         # use_vectorized_map=True\n",
    "#     )"
   ]
  },
  {
   "cell_type": "code",
   "execution_count": 90,
   "id": "4763487b8b0d9135",
   "metadata": {
    "ExecuteTime": {
     "end_time": "2024-06-17T10:58:11.801680Z",
     "start_time": "2024-06-17T10:58:11.793837Z"
    }
   },
   "outputs": [],
   "source": [
    "# Define the joint distribution and conditioning\n",
    "joint_dist = sts_model_joint_distribution(observed_time_series, sts_model, num_timesteps, num_series)"
   ]
  },
  {
   "cell_type": "code",
   "execution_count": 91,
   "id": "c6268709cfe5c08b",
   "metadata": {
    "ExecuteTime": {
     "end_time": "2024-06-17T10:58:13.826887Z",
     "start_time": "2024-06-17T10:58:13.340894Z"
    }
   },
   "outputs": [
    {
     "ename": "ValueError",
     "evalue": "x: required shape (34721, 1) but found (34721,)",
     "output_type": "error",
     "traceback": [
      "\u001B[1;31m---------------------------------------------------------------------------\u001B[0m",
      "\u001B[1;31mValueError\u001B[0m                                Traceback (most recent call last)",
      "Cell \u001B[1;32mIn[91], line 2\u001B[0m\n\u001B[0;32m      1\u001B[0m \u001B[38;5;66;03m# Pin the observed time series to the joint distribution\u001B[39;00m\n\u001B[1;32m----> 2\u001B[0m pinned_joint_dist \u001B[38;5;241m=\u001B[39m \u001B[43mjoint_dist\u001B[49m\u001B[38;5;241;43m.\u001B[39;49m\u001B[43mexperimental_pin\u001B[49m\u001B[43m(\u001B[49m\u001B[43mobserved_time_series\u001B[49m\u001B[38;5;241;43m=\u001B[39;49m\u001B[43mobserved_time_series\u001B[49m\u001B[43m)\u001B[49m\n",
      "File \u001B[1;32m~\\.virtualenvs\\hedging_renewables\\Lib\\site-packages\\tensorflow_probability\\python\\distributions\\joint_distribution.py:1158\u001B[0m, in \u001B[0;36mJointDistribution.experimental_pin\u001B[1;34m(self, *args, **kwargs)\u001B[0m\n\u001B[0;32m   1155\u001B[0m \u001B[38;5;66;03m# Import deferred to avoid circular dependency\u001B[39;00m\n\u001B[0;32m   1156\u001B[0m \u001B[38;5;66;03m# JD.experimental_pin <> JDPinned <> experimental.marginalize.JDCoroutine.\u001B[39;00m\n\u001B[0;32m   1157\u001B[0m \u001B[38;5;28;01mfrom\u001B[39;00m \u001B[38;5;21;01mtensorflow_probability\u001B[39;00m\u001B[38;5;21;01m.\u001B[39;00m\u001B[38;5;21;01mpython\u001B[39;00m\u001B[38;5;21;01m.\u001B[39;00m\u001B[38;5;21;01mexperimental\u001B[39;00m\u001B[38;5;21;01m.\u001B[39;00m\u001B[38;5;21;01mdistributions\u001B[39;00m \u001B[38;5;28;01mimport\u001B[39;00m joint_distribution_pinned \u001B[38;5;28;01mas\u001B[39;00m jd_pinned  \u001B[38;5;66;03m# pylint: disable=g-import-not-at-top\u001B[39;00m\n\u001B[1;32m-> 1158\u001B[0m \u001B[38;5;28;01mreturn\u001B[39;00m \u001B[43mjd_pinned\u001B[49m\u001B[38;5;241;43m.\u001B[39;49m\u001B[43mJointDistributionPinned\u001B[49m\u001B[43m(\u001B[49m\u001B[38;5;28;43mself\u001B[39;49m\u001B[43m,\u001B[49m\u001B[43m \u001B[49m\u001B[38;5;241;43m*\u001B[39;49m\u001B[43margs\u001B[49m\u001B[43m,\u001B[49m\u001B[43m \u001B[49m\u001B[38;5;241;43m*\u001B[39;49m\u001B[38;5;241;43m*\u001B[39;49m\u001B[43mkwargs\u001B[49m\u001B[43m)\u001B[49m\n",
      "File \u001B[1;32m~\\.virtualenvs\\hedging_renewables\\Lib\\site-packages\\tensorflow_probability\\python\\experimental\\distributions\\joint_distribution_pinned.py:342\u001B[0m, in \u001B[0;36mJointDistributionPinned.__init__\u001B[1;34m(self, distribution, name, *pins, **named_pins)\u001B[0m\n\u001B[0;32m    340\u001B[0m \u001B[38;5;28mself\u001B[39m\u001B[38;5;241m.\u001B[39m_distribution \u001B[38;5;241m=\u001B[39m distribution\n\u001B[0;32m    341\u001B[0m \u001B[38;5;28mself\u001B[39m\u001B[38;5;241m.\u001B[39m_name \u001B[38;5;241m=\u001B[39m name\n\u001B[1;32m--> 342\u001B[0m \u001B[38;5;28mself\u001B[39m\u001B[38;5;241m.\u001B[39m_pins \u001B[38;5;241m=\u001B[39m \u001B[43m_to_pins\u001B[49m\u001B[43m(\u001B[49m\u001B[43mdistribution\u001B[49m\u001B[43m,\u001B[49m\u001B[43m \u001B[49m\u001B[38;5;241;43m*\u001B[39;49m\u001B[43mpins\u001B[49m\u001B[43m,\u001B[49m\u001B[43m \u001B[49m\u001B[38;5;241;43m*\u001B[39;49m\u001B[38;5;241;43m*\u001B[39;49m\u001B[43mnamed_pins\u001B[49m\u001B[43m)\u001B[49m\n\u001B[0;32m    343\u001B[0m \u001B[38;5;28mself\u001B[39m\u001B[38;5;241m.\u001B[39m_use_vectorized_map \u001B[38;5;241m=\u001B[39m \u001B[38;5;28mgetattr\u001B[39m(distribution,\n\u001B[0;32m    344\u001B[0m                                    \u001B[38;5;124m'\u001B[39m\u001B[38;5;124muse_vectorized_map\u001B[39m\u001B[38;5;124m'\u001B[39m,\n\u001B[0;32m    345\u001B[0m                                    \u001B[38;5;28;01mFalse\u001B[39;00m)\n\u001B[0;32m    346\u001B[0m \u001B[38;5;28mself\u001B[39m\u001B[38;5;241m.\u001B[39mallow_nan_stats \u001B[38;5;241m=\u001B[39m \u001B[38;5;28;01mFalse\u001B[39;00m\n",
      "File \u001B[1;32m~\\.virtualenvs\\hedging_renewables\\Lib\\site-packages\\tensorflow_probability\\python\\experimental\\distributions\\joint_distribution_pinned.py:748\u001B[0m, in \u001B[0;36m_to_pins\u001B[1;34m(dist, *args, **kwargs)\u001B[0m\n\u001B[0;32m    733\u001B[0m \u001B[38;5;28;01mdef\u001B[39;00m \u001B[38;5;21m_to_pins\u001B[39m(dist, \u001B[38;5;241m*\u001B[39margs, \u001B[38;5;241m*\u001B[39m\u001B[38;5;241m*\u001B[39mkwargs):\n\u001B[0;32m    734\u001B[0m \u001B[38;5;250m  \u001B[39m\u001B[38;5;124;03m\"\"\"Converts *args and **kwargs to a dict of pins.\u001B[39;00m\n\u001B[0;32m    735\u001B[0m \n\u001B[0;32m    736\u001B[0m \u001B[38;5;124;03m  Args:\u001B[39;00m\n\u001B[1;32m   (...)\u001B[0m\n\u001B[0;32m    746\u001B[0m \u001B[38;5;124;03m    pins: Python dict mapping resolved names to pinned values.\u001B[39;00m\n\u001B[0;32m    747\u001B[0m \u001B[38;5;124;03m  \"\"\"\u001B[39;00m\n\u001B[1;32m--> 748\u001B[0m   dtypes \u001B[38;5;241m=\u001B[39m dist\u001B[38;5;241m.\u001B[39m_model_flatten(\u001B[43mdist\u001B[49m\u001B[38;5;241;43m.\u001B[39;49m\u001B[43mdtype\u001B[49m)\n\u001B[0;32m    749\u001B[0m   \u001B[38;5;28;01mif\u001B[39;00m \u001B[38;5;129;01mnot\u001B[39;00m dtypes:\n\u001B[0;32m    750\u001B[0m     \u001B[38;5;28;01mreturn\u001B[39;00m {}\n",
      "File \u001B[1;32m~\\.virtualenvs\\hedging_renewables\\Lib\\site-packages\\tensorflow_probability\\python\\distributions\\joint_distribution.py:389\u001B[0m, in \u001B[0;36mJointDistribution.dtype\u001B[1;34m(self)\u001B[0m\n\u001B[0;32m    385\u001B[0m \u001B[38;5;129m@property\u001B[39m\n\u001B[0;32m    386\u001B[0m \u001B[38;5;28;01mdef\u001B[39;00m \u001B[38;5;21mdtype\u001B[39m(\u001B[38;5;28mself\u001B[39m):\n\u001B[0;32m    387\u001B[0m \u001B[38;5;250m  \u001B[39m\u001B[38;5;124;03m\"\"\"The `DType` of `Tensor`s handled by this `Distribution`.\"\"\"\u001B[39;00m\n\u001B[0;32m    388\u001B[0m   \u001B[38;5;28;01mreturn\u001B[39;00m \u001B[38;5;28mself\u001B[39m\u001B[38;5;241m.\u001B[39m_model_unflatten(\n\u001B[1;32m--> 389\u001B[0m       \u001B[38;5;28;43mself\u001B[39;49m\u001B[38;5;241;43m.\u001B[39;49m\u001B[43m_get_static_distribution_attributes\u001B[49m\u001B[43m(\u001B[49m\u001B[43m)\u001B[49m\u001B[38;5;241m.\u001B[39mdtype)\n",
      "File \u001B[1;32m~\\.virtualenvs\\hedging_renewables\\Lib\\site-packages\\tensorflow_probability\\python\\distributions\\joint_distribution.py:361\u001B[0m, in \u001B[0;36mJointDistribution._get_static_distribution_attributes\u001B[1;34m(self, seed)\u001B[0m\n\u001B[0;32m    359\u001B[0m \u001B[38;5;28;01mdef\u001B[39;00m \u001B[38;5;21m_get_static_distribution_attributes\u001B[39m(\u001B[38;5;28mself\u001B[39m, seed\u001B[38;5;241m=\u001B[39m\u001B[38;5;28;01mNone\u001B[39;00m):\n\u001B[0;32m    360\u001B[0m   \u001B[38;5;28;01mif\u001B[39;00m \u001B[38;5;129;01mnot\u001B[39;00m \u001B[38;5;28mhasattr\u001B[39m(\u001B[38;5;28mself\u001B[39m, \u001B[38;5;124m'\u001B[39m\u001B[38;5;124m_cached_static_attributes\u001B[39m\u001B[38;5;124m'\u001B[39m):\n\u001B[1;32m--> 361\u001B[0m     flat_list_of_static_attributes \u001B[38;5;241m=\u001B[39m \u001B[43mcallable_util\u001B[49m\u001B[38;5;241;43m.\u001B[39;49m\u001B[43mget_output_spec\u001B[49m\u001B[43m(\u001B[49m\n\u001B[0;32m    362\u001B[0m \u001B[43m        \u001B[49m\u001B[38;5;28;43;01mlambda\u001B[39;49;00m\u001B[43m:\u001B[49m\u001B[43m \u001B[49m\u001B[38;5;28;43mself\u001B[39;49m\u001B[38;5;241;43m.\u001B[39;49m\u001B[43m_execute_model\u001B[49m\u001B[43m(\u001B[49m\u001B[43m  \u001B[49m\u001B[38;5;66;43;03m# pylint: disable=g-long-lambda\u001B[39;49;00m\n\u001B[0;32m    363\u001B[0m \u001B[43m            \u001B[49m\u001B[43msample_and_trace_fn\u001B[49m\u001B[38;5;241;43m=\u001B[39;49m\u001B[43mtrace_static_attributes\u001B[49m\u001B[43m,\u001B[49m\n\u001B[0;32m    364\u001B[0m \u001B[43m            \u001B[49m\u001B[43mseed\u001B[49m\u001B[38;5;241;43m=\u001B[39;49m\u001B[43mseed\u001B[49m\u001B[43m \u001B[49m\u001B[38;5;28;43;01mif\u001B[39;49;00m\u001B[43m \u001B[49m\u001B[43mseed\u001B[49m\u001B[43m \u001B[49m\u001B[38;5;129;43;01mis\u001B[39;49;00m\u001B[43m \u001B[49m\u001B[38;5;129;43;01mnot\u001B[39;49;00m\u001B[43m \u001B[49m\u001B[38;5;28;43;01mNone\u001B[39;49;00m\u001B[43m \u001B[49m\u001B[38;5;28;43;01melse\u001B[39;49;00m\u001B[43m \u001B[49m\u001B[43msamplers\u001B[49m\u001B[38;5;241;43m.\u001B[39;49m\u001B[43mzeros_seed\u001B[49m\u001B[43m(\u001B[49m\u001B[43m)\u001B[49m\u001B[43m)\u001B[49m\u001B[43m)\u001B[49m\n\u001B[0;32m    365\u001B[0m     \u001B[38;5;28mself\u001B[39m\u001B[38;5;241m.\u001B[39m_cached_static_attributes \u001B[38;5;241m=\u001B[39m StaticDistributionAttributes(\n\u001B[0;32m    366\u001B[0m         \u001B[38;5;241m*\u001B[39m\u001B[38;5;28mzip\u001B[39m(\u001B[38;5;241m*\u001B[39mflat_list_of_static_attributes))\n\u001B[0;32m    368\u001B[0m   \u001B[38;5;28;01mreturn\u001B[39;00m \u001B[38;5;28mself\u001B[39m\u001B[38;5;241m.\u001B[39m_cached_static_attributes\n",
      "File \u001B[1;32m~\\.virtualenvs\\hedging_renewables\\Lib\\site-packages\\tensorflow_probability\\python\\internal\\callable_util.py:63\u001B[0m, in \u001B[0;36mget_output_spec\u001B[1;34m(fn, *args, **kwargs)\u001B[0m\n\u001B[0;32m     60\u001B[0m   \u001B[38;5;28;01mreturn\u001B[39;00m tf\u001B[38;5;241m.\u001B[39mTensorSpec\u001B[38;5;241m.\u001B[39mfrom_tensor(tf\u001B[38;5;241m.\u001B[39mconvert_to_tensor(t))\n\u001B[0;32m     61\u001B[0m arg_specs, kwarg_specs \u001B[38;5;241m=\u001B[39m tf\u001B[38;5;241m.\u001B[39mnest\u001B[38;5;241m.\u001B[39mmap_structure(_as_tensor_spec,\n\u001B[0;32m     62\u001B[0m                                                (args, kwargs))\n\u001B[1;32m---> 63\u001B[0m \u001B[38;5;28;01mreturn\u001B[39;00m \u001B[43mtf\u001B[49m\u001B[38;5;241;43m.\u001B[39;49m\u001B[43mfunction\u001B[49m\u001B[43m(\u001B[49m\u001B[43mfn\u001B[49m\u001B[43m,\u001B[49m\u001B[43m \u001B[49m\u001B[43mautograph\u001B[49m\u001B[38;5;241;43m=\u001B[39;49m\u001B[38;5;28;43;01mFalse\u001B[39;49;00m\u001B[43m)\u001B[49m\u001B[38;5;241;43m.\u001B[39;49m\u001B[43mget_concrete_function\u001B[49m\u001B[43m(\u001B[49m\n\u001B[0;32m     64\u001B[0m \u001B[43m    \u001B[49m\u001B[38;5;241;43m*\u001B[39;49m\u001B[43marg_specs\u001B[49m\u001B[43m,\u001B[49m\u001B[43m \u001B[49m\u001B[38;5;241;43m*\u001B[39;49m\u001B[38;5;241;43m*\u001B[39;49m\u001B[43mkwarg_specs\u001B[49m\u001B[43m)\u001B[49m\u001B[38;5;241m.\u001B[39mstructured_outputs\n",
      "File \u001B[1;32m~\\.virtualenvs\\hedging_renewables\\Lib\\site-packages\\tensorflow\\python\\eager\\polymorphic_function\\polymorphic_function.py:1251\u001B[0m, in \u001B[0;36mFunction.get_concrete_function\u001B[1;34m(self, *args, **kwargs)\u001B[0m\n\u001B[0;32m   1249\u001B[0m \u001B[38;5;28;01mdef\u001B[39;00m \u001B[38;5;21mget_concrete_function\u001B[39m(\u001B[38;5;28mself\u001B[39m, \u001B[38;5;241m*\u001B[39margs, \u001B[38;5;241m*\u001B[39m\u001B[38;5;241m*\u001B[39mkwargs):\n\u001B[0;32m   1250\u001B[0m   \u001B[38;5;66;03m# Implements PolymorphicFunction.get_concrete_function.\u001B[39;00m\n\u001B[1;32m-> 1251\u001B[0m   concrete \u001B[38;5;241m=\u001B[39m \u001B[38;5;28;43mself\u001B[39;49m\u001B[38;5;241;43m.\u001B[39;49m\u001B[43m_get_concrete_function_garbage_collected\u001B[49m\u001B[43m(\u001B[49m\u001B[38;5;241;43m*\u001B[39;49m\u001B[43margs\u001B[49m\u001B[43m,\u001B[49m\u001B[43m \u001B[49m\u001B[38;5;241;43m*\u001B[39;49m\u001B[38;5;241;43m*\u001B[39;49m\u001B[43mkwargs\u001B[49m\u001B[43m)\u001B[49m\n\u001B[0;32m   1252\u001B[0m   concrete\u001B[38;5;241m.\u001B[39m_garbage_collector\u001B[38;5;241m.\u001B[39mrelease()  \u001B[38;5;66;03m# pylint: disable=protected-access\u001B[39;00m\n\u001B[0;32m   1253\u001B[0m   \u001B[38;5;28;01mreturn\u001B[39;00m concrete\n",
      "File \u001B[1;32m~\\.virtualenvs\\hedging_renewables\\Lib\\site-packages\\tensorflow\\python\\eager\\polymorphic_function\\polymorphic_function.py:1221\u001B[0m, in \u001B[0;36mFunction._get_concrete_function_garbage_collected\u001B[1;34m(self, *args, **kwargs)\u001B[0m\n\u001B[0;32m   1219\u001B[0m   \u001B[38;5;28;01mif\u001B[39;00m \u001B[38;5;28mself\u001B[39m\u001B[38;5;241m.\u001B[39m_variable_creation_config \u001B[38;5;129;01mis\u001B[39;00m \u001B[38;5;28;01mNone\u001B[39;00m:\n\u001B[0;32m   1220\u001B[0m     initializers \u001B[38;5;241m=\u001B[39m []\n\u001B[1;32m-> 1221\u001B[0m     \u001B[38;5;28;43mself\u001B[39;49m\u001B[38;5;241;43m.\u001B[39;49m\u001B[43m_initialize\u001B[49m\u001B[43m(\u001B[49m\u001B[43margs\u001B[49m\u001B[43m,\u001B[49m\u001B[43m \u001B[49m\u001B[43mkwargs\u001B[49m\u001B[43m,\u001B[49m\u001B[43m \u001B[49m\u001B[43madd_initializers_to\u001B[49m\u001B[38;5;241;43m=\u001B[39;49m\u001B[43minitializers\u001B[49m\u001B[43m)\u001B[49m\n\u001B[0;32m   1222\u001B[0m     \u001B[38;5;28mself\u001B[39m\u001B[38;5;241m.\u001B[39m_initialize_uninitialized_variables(initializers)\n\u001B[0;32m   1224\u001B[0m \u001B[38;5;28;01mif\u001B[39;00m \u001B[38;5;28mself\u001B[39m\u001B[38;5;241m.\u001B[39m_created_variables:\n\u001B[0;32m   1225\u001B[0m   \u001B[38;5;66;03m# In this case we have created variables on the first call, so we run the\u001B[39;00m\n\u001B[0;32m   1226\u001B[0m   \u001B[38;5;66;03m# version which is guaranteed to never create variables.\u001B[39;00m\n",
      "File \u001B[1;32m~\\.virtualenvs\\hedging_renewables\\Lib\\site-packages\\tensorflow\\python\\eager\\polymorphic_function\\polymorphic_function.py:696\u001B[0m, in \u001B[0;36mFunction._initialize\u001B[1;34m(self, args, kwds, add_initializers_to)\u001B[0m\n\u001B[0;32m    691\u001B[0m \u001B[38;5;28mself\u001B[39m\u001B[38;5;241m.\u001B[39m_variable_creation_config \u001B[38;5;241m=\u001B[39m \u001B[38;5;28mself\u001B[39m\u001B[38;5;241m.\u001B[39m_generate_scoped_tracing_options(\n\u001B[0;32m    692\u001B[0m     variable_capturing_scope,\n\u001B[0;32m    693\u001B[0m     tracing_compilation\u001B[38;5;241m.\u001B[39mScopeType\u001B[38;5;241m.\u001B[39mVARIABLE_CREATION,\n\u001B[0;32m    694\u001B[0m )\n\u001B[0;32m    695\u001B[0m \u001B[38;5;66;03m# Force the definition of the function for these arguments\u001B[39;00m\n\u001B[1;32m--> 696\u001B[0m \u001B[38;5;28mself\u001B[39m\u001B[38;5;241m.\u001B[39m_concrete_variable_creation_fn \u001B[38;5;241m=\u001B[39m \u001B[43mtracing_compilation\u001B[49m\u001B[38;5;241;43m.\u001B[39;49m\u001B[43mtrace_function\u001B[49m\u001B[43m(\u001B[49m\n\u001B[0;32m    697\u001B[0m \u001B[43m    \u001B[49m\u001B[43margs\u001B[49m\u001B[43m,\u001B[49m\u001B[43m \u001B[49m\u001B[43mkwds\u001B[49m\u001B[43m,\u001B[49m\u001B[43m \u001B[49m\u001B[38;5;28;43mself\u001B[39;49m\u001B[38;5;241;43m.\u001B[39;49m\u001B[43m_variable_creation_config\u001B[49m\n\u001B[0;32m    698\u001B[0m \u001B[43m\u001B[49m\u001B[43m)\u001B[49m\n\u001B[0;32m    700\u001B[0m \u001B[38;5;28;01mdef\u001B[39;00m \u001B[38;5;21minvalid_creator_scope\u001B[39m(\u001B[38;5;241m*\u001B[39munused_args, \u001B[38;5;241m*\u001B[39m\u001B[38;5;241m*\u001B[39munused_kwds):\n\u001B[0;32m    701\u001B[0m \u001B[38;5;250m  \u001B[39m\u001B[38;5;124;03m\"\"\"Disables variable creation.\"\"\"\u001B[39;00m\n",
      "File \u001B[1;32m~\\.virtualenvs\\hedging_renewables\\Lib\\site-packages\\tensorflow\\python\\eager\\polymorphic_function\\tracing_compilation.py:178\u001B[0m, in \u001B[0;36mtrace_function\u001B[1;34m(args, kwargs, tracing_options)\u001B[0m\n\u001B[0;32m    175\u001B[0m     args \u001B[38;5;241m=\u001B[39m tracing_options\u001B[38;5;241m.\u001B[39minput_signature\n\u001B[0;32m    176\u001B[0m     kwargs \u001B[38;5;241m=\u001B[39m {}\n\u001B[1;32m--> 178\u001B[0m   concrete_function \u001B[38;5;241m=\u001B[39m \u001B[43m_maybe_define_function\u001B[49m\u001B[43m(\u001B[49m\n\u001B[0;32m    179\u001B[0m \u001B[43m      \u001B[49m\u001B[43margs\u001B[49m\u001B[43m,\u001B[49m\u001B[43m \u001B[49m\u001B[43mkwargs\u001B[49m\u001B[43m,\u001B[49m\u001B[43m \u001B[49m\u001B[43mtracing_options\u001B[49m\n\u001B[0;32m    180\u001B[0m \u001B[43m  \u001B[49m\u001B[43m)\u001B[49m\n\u001B[0;32m    182\u001B[0m \u001B[38;5;28;01mif\u001B[39;00m \u001B[38;5;129;01mnot\u001B[39;00m tracing_options\u001B[38;5;241m.\u001B[39mbind_graph_to_function:\n\u001B[0;32m    183\u001B[0m   concrete_function\u001B[38;5;241m.\u001B[39m_garbage_collector\u001B[38;5;241m.\u001B[39mrelease()  \u001B[38;5;66;03m# pylint: disable=protected-access\u001B[39;00m\n",
      "File \u001B[1;32m~\\.virtualenvs\\hedging_renewables\\Lib\\site-packages\\tensorflow\\python\\eager\\polymorphic_function\\tracing_compilation.py:283\u001B[0m, in \u001B[0;36m_maybe_define_function\u001B[1;34m(args, kwargs, tracing_options)\u001B[0m\n\u001B[0;32m    281\u001B[0m \u001B[38;5;28;01melse\u001B[39;00m:\n\u001B[0;32m    282\u001B[0m   target_func_type \u001B[38;5;241m=\u001B[39m lookup_func_type\n\u001B[1;32m--> 283\u001B[0m concrete_function \u001B[38;5;241m=\u001B[39m \u001B[43m_create_concrete_function\u001B[49m\u001B[43m(\u001B[49m\n\u001B[0;32m    284\u001B[0m \u001B[43m    \u001B[49m\u001B[43mtarget_func_type\u001B[49m\u001B[43m,\u001B[49m\u001B[43m \u001B[49m\u001B[43mlookup_func_context\u001B[49m\u001B[43m,\u001B[49m\u001B[43m \u001B[49m\u001B[43mfunc_graph\u001B[49m\u001B[43m,\u001B[49m\u001B[43m \u001B[49m\u001B[43mtracing_options\u001B[49m\n\u001B[0;32m    285\u001B[0m \u001B[43m\u001B[49m\u001B[43m)\u001B[49m\n\u001B[0;32m    287\u001B[0m \u001B[38;5;28;01mif\u001B[39;00m tracing_options\u001B[38;5;241m.\u001B[39mfunction_cache \u001B[38;5;129;01mis\u001B[39;00m \u001B[38;5;129;01mnot\u001B[39;00m \u001B[38;5;28;01mNone\u001B[39;00m:\n\u001B[0;32m    288\u001B[0m   tracing_options\u001B[38;5;241m.\u001B[39mfunction_cache\u001B[38;5;241m.\u001B[39madd(\n\u001B[0;32m    289\u001B[0m       concrete_function, current_func_context\n\u001B[0;32m    290\u001B[0m   )\n",
      "File \u001B[1;32m~\\.virtualenvs\\hedging_renewables\\Lib\\site-packages\\tensorflow\\python\\eager\\polymorphic_function\\tracing_compilation.py:310\u001B[0m, in \u001B[0;36m_create_concrete_function\u001B[1;34m(function_type, type_context, func_graph, tracing_options)\u001B[0m\n\u001B[0;32m    303\u001B[0m   placeholder_bound_args \u001B[38;5;241m=\u001B[39m function_type\u001B[38;5;241m.\u001B[39mplaceholder_arguments(\n\u001B[0;32m    304\u001B[0m       placeholder_context\n\u001B[0;32m    305\u001B[0m   )\n\u001B[0;32m    307\u001B[0m disable_acd \u001B[38;5;241m=\u001B[39m tracing_options\u001B[38;5;241m.\u001B[39mattributes \u001B[38;5;129;01mand\u001B[39;00m tracing_options\u001B[38;5;241m.\u001B[39mattributes\u001B[38;5;241m.\u001B[39mget(\n\u001B[0;32m    308\u001B[0m     attributes_lib\u001B[38;5;241m.\u001B[39mDISABLE_ACD, \u001B[38;5;28;01mFalse\u001B[39;00m\n\u001B[0;32m    309\u001B[0m )\n\u001B[1;32m--> 310\u001B[0m traced_func_graph \u001B[38;5;241m=\u001B[39m \u001B[43mfunc_graph_module\u001B[49m\u001B[38;5;241;43m.\u001B[39;49m\u001B[43mfunc_graph_from_py_func\u001B[49m\u001B[43m(\u001B[49m\n\u001B[0;32m    311\u001B[0m \u001B[43m    \u001B[49m\u001B[43mtracing_options\u001B[49m\u001B[38;5;241;43m.\u001B[39;49m\u001B[43mname\u001B[49m\u001B[43m,\u001B[49m\n\u001B[0;32m    312\u001B[0m \u001B[43m    \u001B[49m\u001B[43mtracing_options\u001B[49m\u001B[38;5;241;43m.\u001B[39;49m\u001B[43mpython_function\u001B[49m\u001B[43m,\u001B[49m\n\u001B[0;32m    313\u001B[0m \u001B[43m    \u001B[49m\u001B[43mplaceholder_bound_args\u001B[49m\u001B[38;5;241;43m.\u001B[39;49m\u001B[43margs\u001B[49m\u001B[43m,\u001B[49m\n\u001B[0;32m    314\u001B[0m \u001B[43m    \u001B[49m\u001B[43mplaceholder_bound_args\u001B[49m\u001B[38;5;241;43m.\u001B[39;49m\u001B[43mkwargs\u001B[49m\u001B[43m,\u001B[49m\n\u001B[0;32m    315\u001B[0m \u001B[43m    \u001B[49m\u001B[38;5;28;43;01mNone\u001B[39;49;00m\u001B[43m,\u001B[49m\n\u001B[0;32m    316\u001B[0m \u001B[43m    \u001B[49m\u001B[43mfunc_graph\u001B[49m\u001B[38;5;241;43m=\u001B[39;49m\u001B[43mfunc_graph\u001B[49m\u001B[43m,\u001B[49m\n\u001B[0;32m    317\u001B[0m \u001B[43m    \u001B[49m\u001B[43madd_control_dependencies\u001B[49m\u001B[38;5;241;43m=\u001B[39;49m\u001B[38;5;129;43;01mnot\u001B[39;49;00m\u001B[43m \u001B[49m\u001B[43mdisable_acd\u001B[49m\u001B[43m,\u001B[49m\n\u001B[0;32m    318\u001B[0m \u001B[43m    \u001B[49m\u001B[43marg_names\u001B[49m\u001B[38;5;241;43m=\u001B[39;49m\u001B[43mfunction_type_utils\u001B[49m\u001B[38;5;241;43m.\u001B[39;49m\u001B[43mto_arg_names\u001B[49m\u001B[43m(\u001B[49m\u001B[43mfunction_type\u001B[49m\u001B[43m)\u001B[49m\u001B[43m,\u001B[49m\n\u001B[0;32m    319\u001B[0m \u001B[43m    \u001B[49m\u001B[43mcreate_placeholders\u001B[49m\u001B[38;5;241;43m=\u001B[39;49m\u001B[38;5;28;43;01mFalse\u001B[39;49;00m\u001B[43m,\u001B[49m\n\u001B[0;32m    320\u001B[0m \u001B[43m\u001B[49m\u001B[43m)\u001B[49m\n\u001B[0;32m    322\u001B[0m transform\u001B[38;5;241m.\u001B[39mapply_func_graph_transforms(traced_func_graph)\n\u001B[0;32m    324\u001B[0m graph_capture_container \u001B[38;5;241m=\u001B[39m traced_func_graph\u001B[38;5;241m.\u001B[39mfunction_captures\n",
      "File \u001B[1;32m~\\.virtualenvs\\hedging_renewables\\Lib\\site-packages\\tensorflow\\python\\framework\\func_graph.py:1059\u001B[0m, in \u001B[0;36mfunc_graph_from_py_func\u001B[1;34m(name, python_func, args, kwargs, signature, func_graph, add_control_dependencies, arg_names, op_return_value, collections, capture_by_value, create_placeholders)\u001B[0m\n\u001B[0;32m   1056\u001B[0m   \u001B[38;5;28;01mreturn\u001B[39;00m x\n\u001B[0;32m   1058\u001B[0m _, original_func \u001B[38;5;241m=\u001B[39m tf_decorator\u001B[38;5;241m.\u001B[39munwrap(python_func)\n\u001B[1;32m-> 1059\u001B[0m func_outputs \u001B[38;5;241m=\u001B[39m \u001B[43mpython_func\u001B[49m\u001B[43m(\u001B[49m\u001B[38;5;241;43m*\u001B[39;49m\u001B[43mfunc_args\u001B[49m\u001B[43m,\u001B[49m\u001B[43m \u001B[49m\u001B[38;5;241;43m*\u001B[39;49m\u001B[38;5;241;43m*\u001B[39;49m\u001B[43mfunc_kwargs\u001B[49m\u001B[43m)\u001B[49m\n\u001B[0;32m   1061\u001B[0m \u001B[38;5;66;03m# invariant: `func_outputs` contains only Tensors, CompositeTensors,\u001B[39;00m\n\u001B[0;32m   1062\u001B[0m \u001B[38;5;66;03m# TensorArrays and `None`s.\u001B[39;00m\n\u001B[0;32m   1063\u001B[0m func_outputs \u001B[38;5;241m=\u001B[39m variable_utils\u001B[38;5;241m.\u001B[39mconvert_variables_to_tensors(func_outputs)\n",
      "File \u001B[1;32m~\\.virtualenvs\\hedging_renewables\\Lib\\site-packages\\tensorflow\\python\\eager\\polymorphic_function\\polymorphic_function.py:599\u001B[0m, in \u001B[0;36mFunction._generate_scoped_tracing_options.<locals>.wrapped_fn\u001B[1;34m(*args, **kwds)\u001B[0m\n\u001B[0;32m    595\u001B[0m \u001B[38;5;28;01mwith\u001B[39;00m default_graph\u001B[38;5;241m.\u001B[39m_variable_creator_scope(scope, priority\u001B[38;5;241m=\u001B[39m\u001B[38;5;241m50\u001B[39m):  \u001B[38;5;66;03m# pylint: disable=protected-access\u001B[39;00m\n\u001B[0;32m    596\u001B[0m   \u001B[38;5;66;03m# __wrapped__ allows AutoGraph to swap in a converted function. We give\u001B[39;00m\n\u001B[0;32m    597\u001B[0m   \u001B[38;5;66;03m# the function a weak reference to itself to avoid a reference cycle.\u001B[39;00m\n\u001B[0;32m    598\u001B[0m   \u001B[38;5;28;01mwith\u001B[39;00m OptionalXlaContext(compile_with_xla):\n\u001B[1;32m--> 599\u001B[0m     out \u001B[38;5;241m=\u001B[39m \u001B[43mweak_wrapped_fn\u001B[49m\u001B[43m(\u001B[49m\u001B[43m)\u001B[49m\u001B[38;5;241;43m.\u001B[39;49m\u001B[43m__wrapped__\u001B[49m\u001B[43m(\u001B[49m\u001B[38;5;241;43m*\u001B[39;49m\u001B[43margs\u001B[49m\u001B[43m,\u001B[49m\u001B[43m \u001B[49m\u001B[38;5;241;43m*\u001B[39;49m\u001B[38;5;241;43m*\u001B[39;49m\u001B[43mkwds\u001B[49m\u001B[43m)\u001B[49m\n\u001B[0;32m    600\u001B[0m   \u001B[38;5;28;01mreturn\u001B[39;00m out\n",
      "File \u001B[1;32m~\\.virtualenvs\\hedging_renewables\\Lib\\site-packages\\tensorflow_probability\\python\\distributions\\joint_distribution.py:362\u001B[0m, in \u001B[0;36mJointDistribution._get_static_distribution_attributes.<locals>.<lambda>\u001B[1;34m()\u001B[0m\n\u001B[0;32m    359\u001B[0m \u001B[38;5;28;01mdef\u001B[39;00m \u001B[38;5;21m_get_static_distribution_attributes\u001B[39m(\u001B[38;5;28mself\u001B[39m, seed\u001B[38;5;241m=\u001B[39m\u001B[38;5;28;01mNone\u001B[39;00m):\n\u001B[0;32m    360\u001B[0m   \u001B[38;5;28;01mif\u001B[39;00m \u001B[38;5;129;01mnot\u001B[39;00m \u001B[38;5;28mhasattr\u001B[39m(\u001B[38;5;28mself\u001B[39m, \u001B[38;5;124m'\u001B[39m\u001B[38;5;124m_cached_static_attributes\u001B[39m\u001B[38;5;124m'\u001B[39m):\n\u001B[0;32m    361\u001B[0m     flat_list_of_static_attributes \u001B[38;5;241m=\u001B[39m callable_util\u001B[38;5;241m.\u001B[39mget_output_spec(\n\u001B[1;32m--> 362\u001B[0m         \u001B[38;5;28;01mlambda\u001B[39;00m: \u001B[38;5;28;43mself\u001B[39;49m\u001B[38;5;241;43m.\u001B[39;49m\u001B[43m_execute_model\u001B[49m\u001B[43m(\u001B[49m\u001B[43m  \u001B[49m\u001B[38;5;66;43;03m# pylint: disable=g-long-lambda\u001B[39;49;00m\n\u001B[0;32m    363\u001B[0m \u001B[43m            \u001B[49m\u001B[43msample_and_trace_fn\u001B[49m\u001B[38;5;241;43m=\u001B[39;49m\u001B[43mtrace_static_attributes\u001B[49m\u001B[43m,\u001B[49m\n\u001B[0;32m    364\u001B[0m \u001B[43m            \u001B[49m\u001B[43mseed\u001B[49m\u001B[38;5;241;43m=\u001B[39;49m\u001B[43mseed\u001B[49m\u001B[43m \u001B[49m\u001B[38;5;28;43;01mif\u001B[39;49;00m\u001B[43m \u001B[49m\u001B[43mseed\u001B[49m\u001B[43m \u001B[49m\u001B[38;5;129;43;01mis\u001B[39;49;00m\u001B[43m \u001B[49m\u001B[38;5;129;43;01mnot\u001B[39;49;00m\u001B[43m \u001B[49m\u001B[38;5;28;43;01mNone\u001B[39;49;00m\u001B[43m \u001B[49m\u001B[38;5;28;43;01melse\u001B[39;49;00m\u001B[43m \u001B[49m\u001B[43msamplers\u001B[49m\u001B[38;5;241;43m.\u001B[39;49m\u001B[43mzeros_seed\u001B[49m\u001B[43m(\u001B[49m\u001B[43m)\u001B[49m\u001B[43m)\u001B[49m)\n\u001B[0;32m    365\u001B[0m     \u001B[38;5;28mself\u001B[39m\u001B[38;5;241m.\u001B[39m_cached_static_attributes \u001B[38;5;241m=\u001B[39m StaticDistributionAttributes(\n\u001B[0;32m    366\u001B[0m         \u001B[38;5;241m*\u001B[39m\u001B[38;5;28mzip\u001B[39m(\u001B[38;5;241m*\u001B[39mflat_list_of_static_attributes))\n\u001B[0;32m    368\u001B[0m   \u001B[38;5;28;01mreturn\u001B[39;00m \u001B[38;5;28mself\u001B[39m\u001B[38;5;241m.\u001B[39m_cached_static_attributes\n",
      "File \u001B[1;32m~\\.virtualenvs\\hedging_renewables\\Lib\\site-packages\\tensorflow_probability\\python\\distributions\\joint_distribution.py:1047\u001B[0m, in \u001B[0;36mJointDistribution._execute_model\u001B[1;34m(self, sample_shape, seed, value, stop_index, sample_and_trace_fn)\u001B[0m\n\u001B[0;32m   1045\u001B[0m     \u001B[38;5;28;01mif\u001B[39;00m stop_index \u001B[38;5;129;01mis\u001B[39;00m \u001B[38;5;129;01mnot\u001B[39;00m \u001B[38;5;28;01mNone\u001B[39;00m \u001B[38;5;129;01mand\u001B[39;00m index \u001B[38;5;241m==\u001B[39m stop_index:\n\u001B[0;32m   1046\u001B[0m       \u001B[38;5;28;01mbreak\u001B[39;00m\n\u001B[1;32m-> 1047\u001B[0m     d \u001B[38;5;241m=\u001B[39m \u001B[43mgen\u001B[49m\u001B[38;5;241;43m.\u001B[39;49m\u001B[43msend\u001B[49m\u001B[43m(\u001B[49m\u001B[43mnext_value\u001B[49m\u001B[43m)\u001B[49m\n\u001B[0;32m   1048\u001B[0m \u001B[38;5;28;01mexcept\u001B[39;00m \u001B[38;5;167;01mStopIteration\u001B[39;00m:\n\u001B[0;32m   1049\u001B[0m   \u001B[38;5;28;01mpass\u001B[39;00m\n",
      "Cell \u001B[1;32mIn[89], line 21\u001B[0m, in \u001B[0;36msts_model_joint_distribution.<locals>.sts_model_fn\u001B[1;34m()\u001B[0m\n\u001B[0;32m     14\u001B[0m \u001B[38;5;28;01mdef\u001B[39;00m \u001B[38;5;21mvectorized_model_fn\u001B[39m(time_series):\n\u001B[0;32m     15\u001B[0m     \u001B[38;5;28;01mreturn\u001B[39;00m sts_model\u001B[38;5;241m.\u001B[39mmake_state_space_model(\n\u001B[0;32m     16\u001B[0m         num_timesteps\u001B[38;5;241m=\u001B[39mnum_timesteps,\n\u001B[0;32m     17\u001B[0m         param_vals\u001B[38;5;241m=\u001B[39mparam_list,\n\u001B[0;32m     18\u001B[0m         initial_state_prior\u001B[38;5;241m=\u001B[39mtfd\u001B[38;5;241m.\u001B[39mMultivariateNormalDiag(scale_diag\u001B[38;5;241m=\u001B[39mtf\u001B[38;5;241m.\u001B[39mones([sts_model\u001B[38;5;241m.\u001B[39mlatent_size]))\n\u001B[0;32m     19\u001B[0m     )\u001B[38;5;241m.\u001B[39mlog_prob(time_series)\n\u001B[1;32m---> 21\u001B[0m log_probs \u001B[38;5;241m=\u001B[39m \u001B[43mtf\u001B[49m\u001B[38;5;241;43m.\u001B[39;49m\u001B[43mvectorized_map\u001B[49m\u001B[43m(\u001B[49m\u001B[43mvectorized_model_fn\u001B[49m\u001B[43m,\u001B[49m\u001B[43m \u001B[49m\u001B[43mtf\u001B[49m\u001B[38;5;241;43m.\u001B[39;49m\u001B[43mtranspose\u001B[49m\u001B[43m(\u001B[49m\u001B[43mobserved_time_series\u001B[49m\u001B[43m)\u001B[49m\u001B[43m)\u001B[49m\n\u001B[0;32m     22\u001B[0m \u001B[38;5;28;01myield\u001B[39;00m tf\u001B[38;5;241m.\u001B[39mreduce_sum(log_probs)\n",
      "File \u001B[1;32m~\\.virtualenvs\\hedging_renewables\\Lib\\site-packages\\tensorflow\\python\\ops\\parallel_for\\control_flow_ops.py:578\u001B[0m, in \u001B[0;36mvectorized_map\u001B[1;34m(fn, elems, fallback_to_while_loop, warn)\u001B[0m\n\u001B[0;32m    575\u001B[0m \u001B[38;5;28;01melse\u001B[39;00m:\n\u001B[0;32m    576\u001B[0m   batch_size \u001B[38;5;241m=\u001B[39m \u001B[38;5;28mmax\u001B[39m(static_first_dims)\n\u001B[1;32m--> 578\u001B[0m \u001B[38;5;28;01mreturn\u001B[39;00m \u001B[43mpfor\u001B[49m\u001B[43m(\u001B[49m\n\u001B[0;32m    579\u001B[0m \u001B[43m    \u001B[49m\u001B[43mloop_fn\u001B[49m\u001B[43m,\u001B[49m\n\u001B[0;32m    580\u001B[0m \u001B[43m    \u001B[49m\u001B[43mbatch_size\u001B[49m\u001B[43m,\u001B[49m\n\u001B[0;32m    581\u001B[0m \u001B[43m    \u001B[49m\u001B[43mfallback_to_while_loop\u001B[49m\u001B[38;5;241;43m=\u001B[39;49m\u001B[43mfallback_to_while_loop\u001B[49m\u001B[43m,\u001B[49m\n\u001B[0;32m    582\u001B[0m \u001B[43m    \u001B[49m\u001B[43mwarn\u001B[49m\u001B[38;5;241;43m=\u001B[39;49m\u001B[43mwarn\u001B[49m\u001B[43m)\u001B[49m\n",
      "File \u001B[1;32m~\\.virtualenvs\\hedging_renewables\\Lib\\site-packages\\tensorflow\\python\\ops\\parallel_for\\control_flow_ops.py:228\u001B[0m, in \u001B[0;36mpfor\u001B[1;34m(loop_fn, iters, fallback_to_while_loop, parallel_iterations, warn)\u001B[0m\n\u001B[0;32m    225\u001B[0m     def_function\u001B[38;5;241m.\u001B[39mrun_functions_eagerly(\u001B[38;5;28;01mFalse\u001B[39;00m)\n\u001B[0;32m    226\u001B[0m   f \u001B[38;5;241m=\u001B[39m def_function\u001B[38;5;241m.\u001B[39mfunction(f)\n\u001B[1;32m--> 228\u001B[0m outputs \u001B[38;5;241m=\u001B[39m \u001B[43mf\u001B[49m\u001B[43m(\u001B[49m\u001B[43m)\u001B[49m\n\u001B[0;32m    229\u001B[0m \u001B[38;5;28;01mif\u001B[39;00m functions_run_eagerly \u001B[38;5;129;01mis\u001B[39;00m \u001B[38;5;129;01mnot\u001B[39;00m \u001B[38;5;28;01mNone\u001B[39;00m:\n\u001B[0;32m    230\u001B[0m   def_function\u001B[38;5;241m.\u001B[39mrun_functions_eagerly(functions_run_eagerly)\n",
      "File \u001B[1;32m~\\.virtualenvs\\hedging_renewables\\Lib\\site-packages\\tensorflow\\python\\ops\\parallel_for\\control_flow_ops.py:207\u001B[0m, in \u001B[0;36mpfor.<locals>.f\u001B[1;34m()\u001B[0m\n\u001B[0;32m    206\u001B[0m \u001B[38;5;28;01mdef\u001B[39;00m \u001B[38;5;21mf\u001B[39m():\n\u001B[1;32m--> 207\u001B[0m   \u001B[38;5;28;01mreturn\u001B[39;00m \u001B[43m_pfor_impl\u001B[49m\u001B[43m(\u001B[49m\n\u001B[0;32m    208\u001B[0m \u001B[43m      \u001B[49m\u001B[43mloop_fn\u001B[49m\u001B[43m,\u001B[49m\n\u001B[0;32m    209\u001B[0m \u001B[43m      \u001B[49m\u001B[43miters\u001B[49m\u001B[43m,\u001B[49m\n\u001B[0;32m    210\u001B[0m \u001B[43m      \u001B[49m\u001B[43mfallback_to_while_loop\u001B[49m\u001B[38;5;241;43m=\u001B[39;49m\u001B[43mfallback_to_while_loop\u001B[49m\u001B[43m,\u001B[49m\n\u001B[0;32m    211\u001B[0m \u001B[43m      \u001B[49m\u001B[43mparallel_iterations\u001B[49m\u001B[38;5;241;43m=\u001B[39;49m\u001B[43mparallel_iterations\u001B[49m\u001B[43m,\u001B[49m\n\u001B[0;32m    212\u001B[0m \u001B[43m      \u001B[49m\u001B[43mwarn\u001B[49m\u001B[38;5;241;43m=\u001B[39;49m\u001B[43mwarn\u001B[49m\u001B[43m)\u001B[49m\n",
      "File \u001B[1;32m~\\.virtualenvs\\hedging_renewables\\Lib\\site-packages\\tensorflow\\python\\ops\\parallel_for\\control_flow_ops.py:309\u001B[0m, in \u001B[0;36m_pfor_impl\u001B[1;34m(loop_fn, iters, fallback_to_while_loop, parallel_iterations, pfor_config, warn)\u001B[0m\n\u001B[0;32m    307\u001B[0m     \u001B[38;5;28;01massert\u001B[39;00m pfor_config \u001B[38;5;129;01mis\u001B[39;00m \u001B[38;5;28;01mNone\u001B[39;00m\n\u001B[0;32m    308\u001B[0m     f \u001B[38;5;241m=\u001B[39m autograph\u001B[38;5;241m.\u001B[39mtf_convert(loop_fn, autograph_ctx\u001B[38;5;241m.\u001B[39mcontrol_status_ctx())\n\u001B[1;32m--> 309\u001B[0m     loop_fn_outputs \u001B[38;5;241m=\u001B[39m \u001B[43mf\u001B[49m\u001B[43m(\u001B[49m\u001B[43mloop_var\u001B[49m\u001B[43m)\u001B[49m\n\u001B[0;32m    310\u001B[0m   loop_fn_output_tensors \u001B[38;5;241m=\u001B[39m nest\u001B[38;5;241m.\u001B[39mmap_structure(_composite_to_tensors,\n\u001B[0;32m    311\u001B[0m                                               loop_fn_outputs)\n\u001B[0;32m    313\u001B[0m \u001B[38;5;66;03m# Convert outputs to Tensor if needed.\u001B[39;00m\n",
      "File \u001B[1;32m~\\.virtualenvs\\hedging_renewables\\Lib\\site-packages\\tensorflow\\python\\autograph\\impl\\api.py:643\u001B[0m, in \u001B[0;36mdo_not_convert.<locals>.wrapper\u001B[1;34m(*args, **kwargs)\u001B[0m\n\u001B[0;32m    641\u001B[0m \u001B[38;5;28;01mdef\u001B[39;00m \u001B[38;5;21mwrapper\u001B[39m(\u001B[38;5;241m*\u001B[39margs, \u001B[38;5;241m*\u001B[39m\u001B[38;5;241m*\u001B[39mkwargs):\n\u001B[0;32m    642\u001B[0m   \u001B[38;5;28;01mwith\u001B[39;00m ag_ctx\u001B[38;5;241m.\u001B[39mControlStatusCtx(status\u001B[38;5;241m=\u001B[39mag_ctx\u001B[38;5;241m.\u001B[39mStatus\u001B[38;5;241m.\u001B[39mDISABLED):\n\u001B[1;32m--> 643\u001B[0m     \u001B[38;5;28;01mreturn\u001B[39;00m \u001B[43mfunc\u001B[49m\u001B[43m(\u001B[49m\u001B[38;5;241;43m*\u001B[39;49m\u001B[43margs\u001B[49m\u001B[43m,\u001B[49m\u001B[43m \u001B[49m\u001B[38;5;241;43m*\u001B[39;49m\u001B[38;5;241;43m*\u001B[39;49m\u001B[43mkwargs\u001B[49m\u001B[43m)\u001B[49m\n",
      "File \u001B[1;32m~\\.virtualenvs\\hedging_renewables\\Lib\\site-packages\\tensorflow\\python\\ops\\parallel_for\\control_flow_ops.py:559\u001B[0m, in \u001B[0;36mvectorized_map.<locals>.loop_fn\u001B[1;34m(i)\u001B[0m\n\u001B[0;32m    556\u001B[0m \u001B[38;5;28;01mdef\u001B[39;00m \u001B[38;5;21mloop_fn\u001B[39m(i):\n\u001B[0;32m    557\u001B[0m   gathered_elems \u001B[38;5;241m=\u001B[39m nest\u001B[38;5;241m.\u001B[39mmap_structure(\n\u001B[0;32m    558\u001B[0m       \u001B[38;5;28;01mlambda\u001B[39;00m x: _gather_from_tensor_or_composite(x, i), elems)\n\u001B[1;32m--> 559\u001B[0m   \u001B[38;5;28;01mreturn\u001B[39;00m \u001B[43mfn\u001B[49m\u001B[43m(\u001B[49m\u001B[43mgathered_elems\u001B[49m\u001B[43m)\u001B[49m\n",
      "Cell \u001B[1;32mIn[89], line 19\u001B[0m, in \u001B[0;36msts_model_joint_distribution.<locals>.sts_model_fn.<locals>.vectorized_model_fn\u001B[1;34m(time_series)\u001B[0m\n\u001B[0;32m     14\u001B[0m \u001B[38;5;28;01mdef\u001B[39;00m \u001B[38;5;21mvectorized_model_fn\u001B[39m(time_series):\n\u001B[0;32m     15\u001B[0m     \u001B[38;5;28;01mreturn\u001B[39;00m \u001B[43msts_model\u001B[49m\u001B[38;5;241;43m.\u001B[39;49m\u001B[43mmake_state_space_model\u001B[49m\u001B[43m(\u001B[49m\n\u001B[0;32m     16\u001B[0m \u001B[43m        \u001B[49m\u001B[43mnum_timesteps\u001B[49m\u001B[38;5;241;43m=\u001B[39;49m\u001B[43mnum_timesteps\u001B[49m\u001B[43m,\u001B[49m\n\u001B[0;32m     17\u001B[0m \u001B[43m        \u001B[49m\u001B[43mparam_vals\u001B[49m\u001B[38;5;241;43m=\u001B[39;49m\u001B[43mparam_list\u001B[49m\u001B[43m,\u001B[49m\n\u001B[0;32m     18\u001B[0m \u001B[43m        \u001B[49m\u001B[43minitial_state_prior\u001B[49m\u001B[38;5;241;43m=\u001B[39;49m\u001B[43mtfd\u001B[49m\u001B[38;5;241;43m.\u001B[39;49m\u001B[43mMultivariateNormalDiag\u001B[49m\u001B[43m(\u001B[49m\u001B[43mscale_diag\u001B[49m\u001B[38;5;241;43m=\u001B[39;49m\u001B[43mtf\u001B[49m\u001B[38;5;241;43m.\u001B[39;49m\u001B[43mones\u001B[49m\u001B[43m(\u001B[49m\u001B[43m[\u001B[49m\u001B[43msts_model\u001B[49m\u001B[38;5;241;43m.\u001B[39;49m\u001B[43mlatent_size\u001B[49m\u001B[43m]\u001B[49m\u001B[43m)\u001B[49m\u001B[43m)\u001B[49m\n\u001B[1;32m---> 19\u001B[0m \u001B[43m    \u001B[49m\u001B[43m)\u001B[49m\u001B[38;5;241;43m.\u001B[39;49m\u001B[43mlog_prob\u001B[49m\u001B[43m(\u001B[49m\u001B[43mtime_series\u001B[49m\u001B[43m)\u001B[49m\n",
      "File \u001B[1;32m~\\.virtualenvs\\hedging_renewables\\Lib\\site-packages\\tensorflow_probability\\python\\distributions\\distribution.py:1287\u001B[0m, in \u001B[0;36mDistribution.log_prob\u001B[1;34m(self, value, name, **kwargs)\u001B[0m\n\u001B[0;32m   1275\u001B[0m \u001B[38;5;28;01mdef\u001B[39;00m \u001B[38;5;21mlog_prob\u001B[39m(\u001B[38;5;28mself\u001B[39m, value, name\u001B[38;5;241m=\u001B[39m\u001B[38;5;124m'\u001B[39m\u001B[38;5;124mlog_prob\u001B[39m\u001B[38;5;124m'\u001B[39m, \u001B[38;5;241m*\u001B[39m\u001B[38;5;241m*\u001B[39mkwargs):\n\u001B[0;32m   1276\u001B[0m \u001B[38;5;250m  \u001B[39m\u001B[38;5;124;03m\"\"\"Log probability density/mass function.\u001B[39;00m\n\u001B[0;32m   1277\u001B[0m \n\u001B[0;32m   1278\u001B[0m \u001B[38;5;124;03m  Args:\u001B[39;00m\n\u001B[1;32m   (...)\u001B[0m\n\u001B[0;32m   1285\u001B[0m \u001B[38;5;124;03m      values of type `self.dtype`.\u001B[39;00m\n\u001B[0;32m   1286\u001B[0m \u001B[38;5;124;03m  \"\"\"\u001B[39;00m\n\u001B[1;32m-> 1287\u001B[0m   \u001B[38;5;28;01mreturn\u001B[39;00m \u001B[38;5;28;43mself\u001B[39;49m\u001B[38;5;241;43m.\u001B[39;49m\u001B[43m_call_log_prob\u001B[49m\u001B[43m(\u001B[49m\u001B[43mvalue\u001B[49m\u001B[43m,\u001B[49m\u001B[43m \u001B[49m\u001B[43mname\u001B[49m\u001B[43m,\u001B[49m\u001B[43m \u001B[49m\u001B[38;5;241;43m*\u001B[39;49m\u001B[38;5;241;43m*\u001B[39;49m\u001B[43mkwargs\u001B[49m\u001B[43m)\u001B[49m\n",
      "File \u001B[1;32m~\\.virtualenvs\\hedging_renewables\\Lib\\site-packages\\tensorflow_probability\\python\\distributions\\distribution.py:1267\u001B[0m, in \u001B[0;36mDistribution._call_log_prob\u001B[1;34m(self, value, name, **kwargs)\u001B[0m\n\u001B[0;32m   1263\u001B[0m value \u001B[38;5;241m=\u001B[39m nest_util\u001B[38;5;241m.\u001B[39mcast_structure(value, \u001B[38;5;28mself\u001B[39m\u001B[38;5;241m.\u001B[39mdtype)\n\u001B[0;32m   1264\u001B[0m value \u001B[38;5;241m=\u001B[39m nest_util\u001B[38;5;241m.\u001B[39mconvert_to_nested_tensor(\n\u001B[0;32m   1265\u001B[0m     value, name\u001B[38;5;241m=\u001B[39m\u001B[38;5;124m'\u001B[39m\u001B[38;5;124mvalue\u001B[39m\u001B[38;5;124m'\u001B[39m, dtype_hint\u001B[38;5;241m=\u001B[39m\u001B[38;5;28mself\u001B[39m\u001B[38;5;241m.\u001B[39mdtype,\n\u001B[0;32m   1266\u001B[0m     allow_packing\u001B[38;5;241m=\u001B[39m\u001B[38;5;28;01mTrue\u001B[39;00m)\n\u001B[1;32m-> 1267\u001B[0m \u001B[43m\u001B[49m\u001B[38;5;28;43;01mwith\u001B[39;49;00m\u001B[43m \u001B[49m\u001B[38;5;28;43mself\u001B[39;49m\u001B[38;5;241;43m.\u001B[39;49m\u001B[43m_name_and_control_scope\u001B[49m\u001B[43m(\u001B[49m\u001B[43mname\u001B[49m\u001B[43m,\u001B[49m\u001B[43m \u001B[49m\u001B[43mvalue\u001B[49m\u001B[43m,\u001B[49m\u001B[43m \u001B[49m\u001B[43mkwargs\u001B[49m\u001B[43m)\u001B[49m\u001B[43m:\u001B[49m\n\u001B[0;32m   1268\u001B[0m \u001B[43m  \u001B[49m\u001B[38;5;28;43;01mif\u001B[39;49;00m\u001B[43m \u001B[49m\u001B[38;5;28;43mhasattr\u001B[39;49m\u001B[43m(\u001B[49m\u001B[38;5;28;43mself\u001B[39;49m\u001B[43m,\u001B[49m\u001B[43m \u001B[49m\u001B[38;5;124;43m'\u001B[39;49m\u001B[38;5;124;43m_log_prob\u001B[39;49m\u001B[38;5;124;43m'\u001B[39;49m\u001B[43m)\u001B[49m\u001B[43m:\u001B[49m\n\u001B[0;32m   1269\u001B[0m \u001B[43m    \u001B[49m\u001B[38;5;28;43;01mreturn\u001B[39;49;00m\u001B[43m \u001B[49m\u001B[38;5;28;43mself\u001B[39;49m\u001B[38;5;241;43m.\u001B[39;49m\u001B[43m_log_prob\u001B[49m\u001B[43m(\u001B[49m\u001B[43mvalue\u001B[49m\u001B[43m,\u001B[49m\u001B[43m \u001B[49m\u001B[38;5;241;43m*\u001B[39;49m\u001B[38;5;241;43m*\u001B[39;49m\u001B[43mkwargs\u001B[49m\u001B[43m)\u001B[49m\n",
      "File \u001B[1;32m~\\AppData\\Local\\Programs\\Python\\Python312\\Lib\\contextlib.py:137\u001B[0m, in \u001B[0;36m_GeneratorContextManager.__enter__\u001B[1;34m(self)\u001B[0m\n\u001B[0;32m    135\u001B[0m \u001B[38;5;28;01mdel\u001B[39;00m \u001B[38;5;28mself\u001B[39m\u001B[38;5;241m.\u001B[39margs, \u001B[38;5;28mself\u001B[39m\u001B[38;5;241m.\u001B[39mkwds, \u001B[38;5;28mself\u001B[39m\u001B[38;5;241m.\u001B[39mfunc\n\u001B[0;32m    136\u001B[0m \u001B[38;5;28;01mtry\u001B[39;00m:\n\u001B[1;32m--> 137\u001B[0m     \u001B[38;5;28;01mreturn\u001B[39;00m \u001B[38;5;28;43mnext\u001B[39;49m\u001B[43m(\u001B[49m\u001B[38;5;28;43mself\u001B[39;49m\u001B[38;5;241;43m.\u001B[39;49m\u001B[43mgen\u001B[49m\u001B[43m)\u001B[49m\n\u001B[0;32m    138\u001B[0m \u001B[38;5;28;01mexcept\u001B[39;00m \u001B[38;5;167;01mStopIteration\u001B[39;00m:\n\u001B[0;32m    139\u001B[0m     \u001B[38;5;28;01mraise\u001B[39;00m \u001B[38;5;167;01mRuntimeError\u001B[39;00m(\u001B[38;5;124m\"\u001B[39m\u001B[38;5;124mgenerator didn\u001B[39m\u001B[38;5;124m'\u001B[39m\u001B[38;5;124mt yield\u001B[39m\u001B[38;5;124m\"\u001B[39m) \u001B[38;5;28;01mfrom\u001B[39;00m \u001B[38;5;28;01mNone\u001B[39;00m\n",
      "File \u001B[1;32m~\\.virtualenvs\\hedging_renewables\\Lib\\site-packages\\tensorflow_probability\\python\\distributions\\distribution.py:1968\u001B[0m, in \u001B[0;36mDistribution._name_and_control_scope\u001B[1;34m(self, name, value, kwargs)\u001B[0m\n\u001B[0;32m   1966\u001B[0m deps\u001B[38;5;241m.\u001B[39mextend(\u001B[38;5;28mself\u001B[39m\u001B[38;5;241m.\u001B[39m_parameter_control_dependencies(is_init\u001B[38;5;241m=\u001B[39m\u001B[38;5;28;01mFalse\u001B[39;00m))\n\u001B[0;32m   1967\u001B[0m \u001B[38;5;28;01mif\u001B[39;00m value \u001B[38;5;129;01mis\u001B[39;00m \u001B[38;5;129;01mnot\u001B[39;00m UNSET_VALUE:\n\u001B[1;32m-> 1968\u001B[0m   deps\u001B[38;5;241m.\u001B[39mextend(\u001B[38;5;28;43mself\u001B[39;49m\u001B[38;5;241;43m.\u001B[39;49m\u001B[43m_sample_control_dependencies\u001B[49m\u001B[43m(\u001B[49m\n\u001B[0;32m   1969\u001B[0m \u001B[43m      \u001B[49m\u001B[43mvalue\u001B[49m\u001B[43m,\u001B[49m\u001B[43m \u001B[49m\u001B[38;5;241;43m*\u001B[39;49m\u001B[38;5;241;43m*\u001B[39;49m\u001B[43m(\u001B[49m\u001B[43m{\u001B[49m\u001B[43m}\u001B[49m\u001B[43m \u001B[49m\u001B[38;5;28;43;01mif\u001B[39;49;00m\u001B[43m \u001B[49m\u001B[43mkwargs\u001B[49m\u001B[43m \u001B[49m\u001B[38;5;129;43;01mis\u001B[39;49;00m\u001B[43m \u001B[49m\u001B[38;5;28;43;01mNone\u001B[39;49;00m\u001B[43m \u001B[49m\u001B[38;5;28;43;01melse\u001B[39;49;00m\u001B[43m \u001B[49m\u001B[43mkwargs\u001B[49m\u001B[43m)\u001B[49m\u001B[43m)\u001B[49m)\n\u001B[0;32m   1970\u001B[0m \u001B[38;5;28;01mif\u001B[39;00m \u001B[38;5;129;01mnot\u001B[39;00m deps:\n\u001B[0;32m   1971\u001B[0m   \u001B[38;5;28;01myield\u001B[39;00m name_scope\n",
      "File \u001B[1;32m~\\.virtualenvs\\hedging_renewables\\Lib\\site-packages\\tensorflow_probability\\python\\distributions\\linear_gaussian_ssm.py:1391\u001B[0m, in \u001B[0;36mLinearGaussianStateSpaceModel._sample_control_dependencies\u001B[1;34m(self, x, mask)\u001B[0m\n\u001B[0;32m   1387\u001B[0m \u001B[38;5;28;01mdef\u001B[39;00m \u001B[38;5;21m_sample_control_dependencies\u001B[39m(\u001B[38;5;28mself\u001B[39m, x, mask\u001B[38;5;241m=\u001B[39m\u001B[38;5;28;01mNone\u001B[39;00m):\n\u001B[0;32m   1388\u001B[0m   \u001B[38;5;66;03m# Check event shape statically if possible\u001B[39;00m\n\u001B[0;32m   1389\u001B[0m   assertions \u001B[38;5;241m=\u001B[39m []\n\u001B[0;32m   1390\u001B[0m   assertions\u001B[38;5;241m.\u001B[39mappend(\n\u001B[1;32m-> 1391\u001B[0m       \u001B[43m_check_equal_shape\u001B[49m\u001B[43m(\u001B[49m\n\u001B[0;32m   1392\u001B[0m \u001B[43m          \u001B[49m\u001B[38;5;124;43m'\u001B[39;49m\u001B[38;5;124;43mx\u001B[39;49m\u001B[38;5;124;43m'\u001B[39;49m\u001B[43m,\u001B[49m\n\u001B[0;32m   1393\u001B[0m \u001B[43m          \u001B[49m\u001B[43mx\u001B[49m\u001B[38;5;241;43m.\u001B[39;49m\u001B[43mshape\u001B[49m\u001B[43m[\u001B[49m\u001B[38;5;241;43m-\u001B[39;49m\u001B[38;5;241;43m2\u001B[39;49m\u001B[43m:\u001B[49m\u001B[43m]\u001B[49m\u001B[43m,\u001B[49m\n\u001B[0;32m   1394\u001B[0m \u001B[43m          \u001B[49m\u001B[43mtf\u001B[49m\u001B[38;5;241;43m.\u001B[39;49m\u001B[43mshape\u001B[49m\u001B[43m(\u001B[49m\u001B[43mx\u001B[49m\u001B[43m)\u001B[49m\u001B[43m[\u001B[49m\u001B[38;5;241;43m-\u001B[39;49m\u001B[38;5;241;43m2\u001B[39;49m\u001B[43m:\u001B[49m\u001B[43m]\u001B[49m\u001B[43m,\u001B[49m\n\u001B[0;32m   1395\u001B[0m \u001B[43m          \u001B[49m\u001B[38;5;28;43mself\u001B[39;49m\u001B[38;5;241;43m.\u001B[39;49m\u001B[43mevent_shape\u001B[49m\u001B[43m,\u001B[49m\n\u001B[0;32m   1396\u001B[0m \u001B[43m          \u001B[49m\u001B[38;5;28;43mself\u001B[39;49m\u001B[38;5;241;43m.\u001B[39;49m\u001B[43mevent_shape_tensor\u001B[49m\u001B[43m(\u001B[49m\u001B[43m)\u001B[49m\u001B[43m,\u001B[49m\n\u001B[0;32m   1397\u001B[0m \u001B[43m          \u001B[49m\u001B[43mvalidate_args\u001B[49m\u001B[38;5;241;43m=\u001B[39;49m\u001B[38;5;28;43mself\u001B[39;49m\u001B[38;5;241;43m.\u001B[39;49m\u001B[43mvalidate_args\u001B[49m\u001B[43m)\u001B[49m)\n\u001B[0;32m   1399\u001B[0m   mask \u001B[38;5;241m=\u001B[39m \u001B[38;5;28mself\u001B[39m\u001B[38;5;241m.\u001B[39m_get_mask(mask)\n\u001B[0;32m   1400\u001B[0m   \u001B[38;5;28;01mif\u001B[39;00m mask \u001B[38;5;129;01mis\u001B[39;00m \u001B[38;5;129;01mnot\u001B[39;00m \u001B[38;5;28;01mNone\u001B[39;00m:\n",
      "File \u001B[1;32m~\\.virtualenvs\\hedging_renewables\\Lib\\site-packages\\tensorflow_probability\\python\\distributions\\linear_gaussian_ssm.py:82\u001B[0m, in \u001B[0;36m_check_equal_shape\u001B[1;34m(name, static_shape, dynamic_shape, static_target_shape, dynamic_target_shape, validate_args)\u001B[0m\n\u001B[0;32m     79\u001B[0m \u001B[38;5;28;01mif\u001B[39;00m tensorshape_util\u001B[38;5;241m.\u001B[39mis_fully_defined(\n\u001B[0;32m     80\u001B[0m     static_shape) \u001B[38;5;129;01mand\u001B[39;00m tensorshape_util\u001B[38;5;241m.\u001B[39mis_fully_defined(static_target_shape):\n\u001B[0;32m     81\u001B[0m   \u001B[38;5;28;01mif\u001B[39;00m static_shape \u001B[38;5;241m!=\u001B[39m static_target_shape:\n\u001B[1;32m---> 82\u001B[0m     \u001B[38;5;28;01mraise\u001B[39;00m \u001B[38;5;167;01mValueError\u001B[39;00m(\u001B[38;5;124m'\u001B[39m\u001B[38;5;132;01m{}\u001B[39;00m\u001B[38;5;124m: required shape \u001B[39m\u001B[38;5;132;01m{}\u001B[39;00m\u001B[38;5;124m but found \u001B[39m\u001B[38;5;132;01m{}\u001B[39;00m\u001B[38;5;124m'\u001B[39m\u001B[38;5;241m.\u001B[39m\n\u001B[0;32m     83\u001B[0m                      \u001B[38;5;28mformat\u001B[39m(name, static_target_shape, static_shape))\n\u001B[0;32m     84\u001B[0m   \u001B[38;5;28;01mreturn\u001B[39;00m \u001B[38;5;28;01mNone\u001B[39;00m\n\u001B[0;32m     85\u001B[0m \u001B[38;5;28;01melif\u001B[39;00m validate_args:\n",
      "\u001B[1;31mValueError\u001B[0m: x: required shape (34721, 1) but found (34721,)"
     ]
    }
   ],
   "source": [
    "# Pin the observed time series to the joint distribution\n",
    "pinned_joint_dist = joint_dist.experimental_pin(observed_time_series=observed_time_series)"
   ]
  },
  {
   "cell_type": "code",
   "execution_count": 11,
   "id": "79e65d82455782f8",
   "metadata": {
    "ExecuteTime": {
     "end_time": "2024-06-16T08:25:43.857225Z",
     "start_time": "2024-06-16T08:25:43.847456Z"
    }
   },
   "outputs": [],
   "source": [
    "# Inference using MCMC\n",
    "num_results = 500\n",
    "num_burnin_steps = 300\n",
    "\n",
    "# Define the HMC transition kernel\n",
    "@tf.function\n",
    "def run_chain():\n",
    "    hmc_kernel = tfp.mcmc.HamiltonianMonteCarlo(\n",
    "        target_log_prob_fn=pinned_joint_dist.unnormalized_log_prob,\n",
    "        step_size=0.1,\n",
    "        num_leapfrog_steps=3\n",
    "    )\n",
    "    adaptive_hmc = tfp.mcmc.SimpleStepSizeAdaptation(\n",
    "        inner_kernel=hmc_kernel,\n",
    "        num_adaptation_steps=int(num_burnin_steps * 0.8),\n",
    "        target_accept_prob=0.75\n",
    "    )\n",
    "    initial_chain_state = [tf.zeros_like(param.initial_value()) for param in sts_model.parameters]\n",
    "    return tfp.mcmc.sample_chain(\n",
    "        num_results=num_results,\n",
    "        num_burnin_steps=num_burnin_steps,\n",
    "        current_state=initial_chain_state,\n",
    "        kernel=adaptive_hmc,\n",
    "        trace_fn=lambda _, pkr: pkr.inner_results.is_accepted\n",
    "    )\n",
    "\n",
    "# Execute the MCMC chain\n",
    "samples, is_accepted = run_chain()"
   ]
  },
  {
   "cell_type": "code",
   "execution_count": 12,
   "id": "97d463a4cae6b487",
   "metadata": {
    "ExecuteTime": {
     "end_time": "2024-06-16T08:25:43.866552Z",
     "start_time": "2024-06-16T08:25:43.858229Z"
    }
   },
   "outputs": [],
   "source": [
    "# Forecast the future\n",
    "def forecast(model, samples, num_steps_forecast):\n",
    "    forecast_dist = tfp.sts.forecast(\n",
    "        model, \n",
    "        observed_time_series=observed_time_series, \n",
    "        parameter_samples=samples, \n",
    "        num_steps_forecast=num_steps_forecast\n",
    "    )\n",
    "    \n",
    "    return forecast_dist.sample(num_steps_forecast).numpy()\n",
    "\n",
    "forecast_samples = forecast(sts_model, samples, horizon)"
   ]
  }
 ],
 "metadata": {
  "kernelspec": {
   "display_name": "Python 3 (ipykernel)",
   "language": "python",
   "name": "python3"
  },
  "language_info": {
   "codemirror_mode": {
    "name": "ipython",
    "version": 3
   },
   "file_extension": ".py",
   "mimetype": "text/x-python",
   "name": "python",
   "nbconvert_exporter": "python",
   "pygments_lexer": "ipython3",
   "version": "3.12.3"
  }
 },
 "nbformat": 4,
 "nbformat_minor": 5
}
