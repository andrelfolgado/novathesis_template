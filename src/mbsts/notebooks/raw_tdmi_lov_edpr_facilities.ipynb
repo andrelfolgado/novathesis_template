{
 "cells": [
  {
   "metadata": {
    "ExecuteTime": {
     "end_time": "2024-06-14T10:37:05.503038Z",
     "start_time": "2024-06-14T10:37:04.606503Z"
    }
   },
   "cell_type": "code",
   "source": [
    "from gemlib.database.utils import load_data_hub\n",
    "\n",
    "# import warnings to avoid getting sqlalchemy warnings from load_data_hub\n",
    "import warnings\n",
    "warnings.filterwarnings('ignore')"
   ],
   "id": "600716687394d128",
   "outputs": [],
   "execution_count": 1
  },
  {
   "metadata": {
    "ExecuteTime": {
     "end_time": "2024-06-14T10:51:39.352897Z",
     "start_time": "2024-06-14T10:51:39.347545Z"
    }
   },
   "cell_type": "code",
   "source": [
    "def get_facility_properties():\n",
    "\tdh_qry = \"\"\"\n",
    "\tSELECT * \n",
    "\tFROM raw_tdmi.lov_edpr_facilities\n",
    "\t\"\"\"#%%\n",
    "\t# Load data from data hub and disable warnings\n",
    "\tdf = load_data_hub(dh_qry)#%%\n",
    "\t# Apply this operation below in DAX to \"FACILITY_UNIT_NAME\" column\n",
    "\t# IF(\n",
    "\t#     CONTAINSSTRING(EDPR[Facility_Unit_Name], \" -\"), \n",
    "\t#     TRIM(LEFT(EDPR[Facility_Unit_Name], SEARCH(\" -\", EDPR[Facility_Unit_Name], , -1) - 1)), \n",
    "\t#     EDPR[Facility_Unit_Name]\n",
    "\t# ) AS Facility_Name\n",
    "\tdf['facility_name'] = df['FACILITY_UNIT_NAME'].apply(lambda x: x.split(' -')[0] if ' -' in x else x)\n",
    "\treturn df"
   ],
   "id": "65794d8630193c60",
   "outputs": [],
   "execution_count": 5
  },
  {
   "metadata": {},
   "cell_type": "code",
   "outputs": [],
   "execution_count": null,
   "source": "",
   "id": "86c3330dda178597"
  }
 ],
 "metadata": {
  "kernelspec": {
   "display_name": "Python 3",
   "language": "python",
   "name": "python3"
  },
  "language_info": {
   "codemirror_mode": {
    "name": "ipython",
    "version": 2
   },
   "file_extension": ".py",
   "mimetype": "text/x-python",
   "name": "python",
   "nbconvert_exporter": "python",
   "pygments_lexer": "ipython2",
   "version": "2.7.6"
  }
 },
 "nbformat": 4,
 "nbformat_minor": 5
}
