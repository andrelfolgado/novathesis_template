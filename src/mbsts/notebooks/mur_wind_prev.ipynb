{
 "cells": [
  {
   "metadata": {
    "ExecuteTime": {
     "end_time": "2024-06-14T15:35:06.323584Z",
     "start_time": "2024-06-14T15:35:06.319600Z"
    }
   },
   "cell_type": "code",
   "source": [
    "from gemlib.database.utils import load_data_oracle, load_data_hub\n",
    "import pandas as pd\n",
    "# import warnings to avoid getting sqlalchemy warnings from load_data_hub\n",
    "import warnings\n",
    "warnings.filterwarnings('ignore')"
   ],
   "id": "7043bcc119c1ac77",
   "outputs": [],
   "execution_count": 12
  },
  {
   "metadata": {
    "ExecuteTime": {
     "end_time": "2024-06-14T15:35:06.336038Z",
     "start_time": "2024-06-14T15:35:06.332559Z"
    }
   },
   "cell_type": "code",
   "source": "zones = (\"22Bolo\", \"24Ama1\", \"26Fanh\", \"27Arr1\", \"29Sob2\", \"44Milagre\", \"48Vale_de\", \"60Maravil\", \"61MaraviII\", \"68Jogui\")\n",
   "id": "dcac7d4e598403c0",
   "outputs": [],
   "execution_count": 13
  },
  {
   "metadata": {
    "ExecuteTime": {
     "end_time": "2024-06-14T15:35:08.155890Z",
     "start_time": "2024-06-14T15:35:06.354979Z"
    }
   },
   "cell_type": "code",
   "source": [
    "import nbimporter\n",
    "dh_qry = \"\"\"\n",
    "\tSELECT * \n",
    "\tFROM raw_tdmi.lov_edpr_facilities\n",
    "\"\"\"\n",
    "\n",
    "df_fac_props = load_data_hub(dh_qry)"
   ],
   "id": "a88126304377e5c7",
   "outputs": [],
   "execution_count": 14
  },
  {
   "metadata": {
    "ExecuteTime": {
     "end_time": "2024-06-14T15:35:08.165604Z",
     "start_time": "2024-06-14T15:35:08.157890Z"
    }
   },
   "cell_type": "code",
   "source": [
    "\n",
    "df_fac_props['facility_name'] = df_fac_props['FACILITY_UNIT_NAME'].apply(lambda x: x.split(' -')[0] if ' -' in x else x)\n",
    "\n",
    "df_fac_props['FACILITY_UNIT_ID_SHORT'] = df_fac_props['FACILITY_UNIT_ID'].apply(lambda x: '_'.join(x.split('_')[1:]) if '_' in x else x)\n",
    "\n",
    "df_zones_props = df_fac_props[df_fac_props['FACILITY_UNIT_ID_SHORT'].isin(zones)]"
   ],
   "id": "daec91681b4bc8b3",
   "outputs": [],
   "execution_count": 15
  },
  {
   "metadata": {
    "ExecuteTime": {
     "end_time": "2024-06-14T15:35:08.170674Z",
     "start_time": "2024-06-14T15:35:08.166606Z"
    }
   },
   "cell_type": "code",
   "source": [
    "orc_qry = f\"\"\"\n",
    "\tSELECT * \n",
    "\tFROM POWERBI_EOL_PREV_HIST\n",
    "\tWHERE NOME_MODELO IN {zones}\n",
    "-- \tWHERE NOME_MODELO == \"22Bolo\"\n",
    "\"\"\"\n"
   ],
   "id": "5216f2da7f6870ef",
   "outputs": [],
   "execution_count": 16
  },
  {
   "metadata": {
    "ExecuteTime": {
     "end_time": "2024-06-14T15:39:13.355754Z",
     "start_time": "2024-06-14T15:35:08.172673Z"
    }
   },
   "cell_type": "code",
   "source": [
    "\n",
    "df = load_data_oracle(orc_qry)"
   ],
   "id": "a01e7a632a9bd952",
   "outputs": [],
   "execution_count": 17
  },
  {
   "metadata": {
    "ExecuteTime": {
     "end_time": "2024-06-14T15:39:13.415030Z",
     "start_time": "2024-06-14T15:39:13.356411Z"
    }
   },
   "cell_type": "code",
   "source": "df_index = df.copy()",
   "id": "1080d9d7cd0548d8",
   "outputs": [],
   "execution_count": 18
  },
  {
   "metadata": {
    "ExecuteTime": {
     "end_time": "2024-06-14T15:39:13.494878Z",
     "start_time": "2024-06-14T15:39:13.416029Z"
    }
   },
   "cell_type": "code",
   "source": [
    "# filter datetime to get the last 2 years\n",
    "hist_num_year = 4\n",
    "\n",
    "df_index = df_index[df_index['dia_aplicacao'] >= df_index['dia_aplicacao'].max() - pd.DateOffset(months=hist_num_year*12)]\n"
   ],
   "id": "b55c9adab8ff2f2b",
   "outputs": [],
   "execution_count": 19
  },
  {
   "metadata": {
    "ExecuteTime": {
     "end_time": "2024-06-14T15:39:13.637352Z",
     "start_time": "2024-06-14T15:39:13.495382Z"
    }
   },
   "cell_type": "code",
   "source": [
    "# create datetimeindex based on dia_aplicacao(datetime) e hora_aplicacao(float)\n",
    "\n",
    "df_index['datetime'] = pd.to_datetime(df_index['dia_aplicacao']) + pd.to_timedelta(df_index['hora_aplicacao'] - 1, unit='h')\n",
    "df_index.set_index('datetime', inplace=True)\n",
    "df_index.drop(columns=['dia_aplicacao', 'hora_aplicacao', 'zonadescr', 'unidade', 'percentil', 'nomezona', 'modelo_descr'], inplace=True)\n",
    "df_index.sort_index(inplace=True)"
   ],
   "id": "d9768cd0183a76f9",
   "outputs": [],
   "execution_count": 20
  },
  {
   "metadata": {
    "ExecuteTime": {
     "end_time": "2024-06-14T15:39:13.729624Z",
     "start_time": "2024-06-14T15:39:13.638372Z"
    }
   },
   "cell_type": "code",
   "source": [
    "#calculate the mean of the duplicates, keeping the original index and nome_modelo eliminating the duplicates reset the nome_modelo index\n",
    "df_silver = (\n",
    "\tdf_index\n",
    "\t.groupby(['datetime', 'nome_modelo'])\n",
    "\t.mean()\n",
    "\t.reset_index(level='nome_modelo')\n",
    ")\n",
    "\n",
    "df_silver['installed_capacity'] = (df_silver['nome_modelo'].map(df_zones_props.set_index('FACILITY_UNIT_ID_SHORT')['INSTALLED_CAPACITY']))/1000\n",
    "\n",
    "df_silver['capacity_factor'] = df_silver['valor'] / df_silver['installed_capacity']\n",
    "\n",
    "df_silver.drop(columns=['installed_capacity', 'valor'], inplace=True)\n",
    "\n"
   ],
   "id": "e4c3a28ec9e11b5e",
   "outputs": [],
   "execution_count": 21
  },
  {
   "metadata": {
    "ExecuteTime": {
     "end_time": "2024-06-14T15:39:13.777456Z",
     "start_time": "2024-06-14T15:39:13.729624Z"
    }
   },
   "cell_type": "code",
   "source": "df_silver_pivot = df_silver.pivot(columns='nome_modelo', values='capacity_factor')",
   "id": "933ccdc88d260ca0",
   "outputs": [],
   "execution_count": 22
  },
  {
   "metadata": {
    "ExecuteTime": {
     "end_time": "2024-06-14T15:52:32.326424Z",
     "start_time": "2024-06-14T15:52:31.607793Z"
    }
   },
   "cell_type": "code",
   "source": "df_silver.to_csv('df_silver.csv')",
   "id": "944c59df9fca038d",
   "outputs": [],
   "execution_count": 23
  },
  {
   "metadata": {},
   "cell_type": "code",
   "outputs": [],
   "execution_count": null,
   "source": "",
   "id": "3bfd663ae23087f8"
  }
 ],
 "metadata": {
  "kernelspec": {
   "display_name": "Python 3",
   "language": "python",
   "name": "python3"
  },
  "language_info": {
   "codemirror_mode": {
    "name": "ipython",
    "version": 2
   },
   "file_extension": ".py",
   "mimetype": "text/x-python",
   "name": "python",
   "nbconvert_exporter": "python",
   "pygments_lexer": "ipython2",
   "version": "2.7.6"
  }
 },
 "nbformat": 4,
 "nbformat_minor": 5
}
